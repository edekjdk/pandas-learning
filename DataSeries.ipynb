{
 "cells": [
  {
   "cell_type": "markdown",
   "id": "9e568760-a042-4939-b76b-e933ddeb1f0a",
   "metadata": {},
   "source": [
    "<img src=\"https://pandas.pydata.org/static/img/pandas_white.svg\" width=\"500\" >\n"
   ]
  },
  {
   "cell_type": "markdown",
   "id": "7559a9da-23fb-4af6-8dd0-3c0a79ea588c",
   "metadata": {},
   "source": [
    "# Data Series\n",
    "\n",
    "### What is Data Series?\n",
    "\n",
    "In Pandas, a **Data Series** is a single, one-dimensional data structure. Simply put we can say that it is a single column of data. Data Series also contains a **indexes** of each element."
   ]
  },
  {
   "cell_type": "markdown",
   "id": "1b783d4b-5b58-4a2a-bea7-987ea0fbbca0",
   "metadata": {},
   "source": [
    "## 1.How to create Data Series?"
   ]
  },
  {
   "cell_type": "code",
   "execution_count": 34,
   "id": "1e68b379-c17c-44d4-a82a-91e7f0c34109",
   "metadata": {},
   "outputs": [],
   "source": [
    "import pandas as pd"
   ]
  },
  {
   "cell_type": "code",
   "execution_count": 62,
   "id": "09e3772a-177e-463d-839f-a8ba71c98472",
   "metadata": {},
   "outputs": [
    {
     "data": {
      "text/plain": [
       "0    London\n",
       "1    Warsaw\n",
       "2    Berlin\n",
       "3     Paris\n",
       "dtype: object"
      ]
     },
     "execution_count": 62,
     "metadata": {},
     "output_type": "execute_result"
    }
   ],
   "source": [
    "cities = [\"London\", \"Warsaw\", \"Berlin\", \"Paris\"]\n",
    "pd.Series(cities)"
   ]
  },
  {
   "cell_type": "code",
   "execution_count": 64,
   "id": "2e24e570-ad82-4467-8ceb-d1524a95cd06",
   "metadata": {},
   "outputs": [
    {
     "data": {
      "text/plain": [
       "0        Cat\n",
       "1        Dog\n",
       "2     Parrot\n",
       "3    Hamster\n",
       "dtype: object"
      ]
     },
     "execution_count": 64,
     "metadata": {},
     "output_type": "execute_result"
    }
   ],
   "source": [
    "pd.Series([\"Cat\", \"Dog\", \"Parrot\", \"Hamster\"])"
   ]
  },
  {
   "cell_type": "markdown",
   "id": "f29db8fc-05cf-47d7-8e52-38119f2be9d2",
   "metadata": {},
   "source": [
    "\n",
    "If you want to create a Data Series with your **own names of indexes**, ypu should use a **dictionary**."
   ]
  },
  {
   "cell_type": "code",
   "execution_count": 71,
   "id": "9064f7b8-3295-4854-a322-8370beaf44a0",
   "metadata": {},
   "outputs": [
    {
     "data": {
      "text/plain": [
       "name      Jack\n",
       "type       cat\n",
       "color    black\n",
       "dtype: object"
      ]
     },
     "execution_count": 71,
     "metadata": {},
     "output_type": "execute_result"
    }
   ],
   "source": [
    "pet = {\"name\" : \"Jack\", \"type\" : \"cat\", \"color\" : \"black\"}\n",
    "pd.Series(pet)"
   ]
  },
  {
   "cell_type": "markdown",
   "id": "0f082efd-60f2-4bc7-9538-4dcbd15341dc",
   "metadata": {},
   "source": [
    "### Exercises:\n",
    "\n",
    "1. Create a list of week days and give it a name **weekdays**.\n",
    "2. Create Data Series object based od created **weekdays** list, and assign it to variable **weekdaysSeries**. Display this variable.\n",
    "3. Create list **freeDays**. List should contains the same amount of elements like **weekdays** list. In the next positions in the list assign value **True** if the day is free or **False** if the day is not free.\n",
    "4. Create **freeDaysSeries** Data Series object based on **freeDays** list. Display created variable. What is the type of list?\n",
    "5. Create dictionary **holidays**. Key is the name of holiday, a value is date.\n",
    "6. Create Data Series **holidaysSeries** based on created dictionary."
   ]
  },
  {
   "cell_type": "markdown",
   "id": "6bff497c-1d92-4e50-9b5e-a7071575f51a",
   "metadata": {},
   "source": [
    "### Solutions:"
   ]
  },
  {
   "cell_type": "code",
   "execution_count": 102,
   "id": "d8e362d1-0c36-4f5c-834e-1aeb18b11b39",
   "metadata": {},
   "outputs": [
    {
     "data": {
      "text/plain": [
       "0       Monday\n",
       "1      Tuesday\n",
       "2    Wendesday\n",
       "3     Thursday\n",
       "4       Friday\n",
       "5     Saturday\n",
       "6       Sunday\n",
       "dtype: object"
      ]
     },
     "execution_count": 102,
     "metadata": {},
     "output_type": "execute_result"
    }
   ],
   "source": [
    "weekdays = [\"Monday\", \"Tuesday\", \"Wendesday\", \"Thursday\", \"Friday\", \"Saturday\", \"Sunday\"]\n",
    "weekdaysSeries = pd.Series(weekdays)\n",
    "weekdaysSeries"
   ]
  },
  {
   "cell_type": "code",
   "execution_count": 108,
   "id": "763130ba-1674-47c2-b4f9-940f9349dd48",
   "metadata": {},
   "outputs": [
    {
     "data": {
      "text/plain": [
       "0    False\n",
       "1    False\n",
       "2    False\n",
       "3    False\n",
       "4    False\n",
       "5     True\n",
       "6     True\n",
       "dtype: bool"
      ]
     },
     "execution_count": 108,
     "metadata": {},
     "output_type": "execute_result"
    }
   ],
   "source": [
    "freeDays = [False, False, False, False, False, True, True]\n",
    "freeDaysSeries = pd.Series(freeDays)\n",
    "freeDaysSeries"
   ]
  },
  {
   "cell_type": "code",
   "execution_count": 118,
   "id": "1d3a27bc-984e-4a04-9734-d80ba6e7edcc",
   "metadata": {},
   "outputs": [
    {
     "data": {
      "text/plain": [
       "New year    2025-01-01\n",
       "Epiphany    2025-01-06\n",
       "Easter      2025-04-01\n",
       "dtype: object"
      ]
     },
     "execution_count": 118,
     "metadata": {},
     "output_type": "execute_result"
    }
   ],
   "source": [
    "holidays = {\"New year\" : \"2025-01-01\", \"Epiphany\" : \"2025-01-06\", \"Easter\" : \"2025-04-01\"}\n",
    "holidaysSeries = pd.Series(holidays)\n",
    "holidaysSeries"
   ]
  },
  {
   "cell_type": "markdown",
   "id": "06f49782-bd18-4dad-a364-10ee6bf52e0d",
   "metadata": {},
   "source": [
    "## 2. Data Series attributes"
   ]
  },
  {
   "cell_type": "markdown",
   "id": "8e61af4b-15df-40ac-8c95-c31300ead6be",
   "metadata": {},
   "source": [
    "size\n",
    "is_uniqe\n",
    "is_monotonic_decresing\n",
    "values\n",
    "dtype\n",
    "shape\n",
    "axes"
   ]
  },
  {
   "cell_type": "code",
   "execution_count": null,
   "id": "94931d95-3a3f-4b1c-b0dd-6635e8476a41",
   "metadata": {},
   "outputs": [],
   "source": []
  }
 ],
 "metadata": {
  "kernelspec": {
   "display_name": "Python 3 (ipykernel)",
   "language": "python",
   "name": "python3"
  },
  "language_info": {
   "codemirror_mode": {
    "name": "ipython",
    "version": 3
   },
   "file_extension": ".py",
   "mimetype": "text/x-python",
   "name": "python",
   "nbconvert_exporter": "python",
   "pygments_lexer": "ipython3",
   "version": "3.12.7"
  }
 },
 "nbformat": 4,
 "nbformat_minor": 5
}
