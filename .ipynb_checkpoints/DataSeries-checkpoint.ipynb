{
 "cells": [
  {
   "cell_type": "markdown",
   "id": "9e568760-a042-4939-b76b-e933ddeb1f0a",
   "metadata": {},
   "source": [
    "<img src=\"https://upload.wikimedia.org/wikipedia/commons/thumb/e/ed/Pandas_logo.svg/300px-Pandas_logo.svg.png\" >\n"
   ]
  },
  {
   "cell_type": "markdown",
   "id": "7559a9da-23fb-4af6-8dd0-3c0a79ea588c",
   "metadata": {},
   "source": [
    "# Data Series\n",
    "\n",
    "### What is Data Series?\n",
    "\n",
    "In Pandas, a **Data Series** is a single, one-dimensional data structure. Simply put we can say that it is a single column of data. Data Series also contains a **indexes** of each element."
   ]
  },
  {
   "cell_type": "markdown",
   "id": "1b783d4b-5b58-4a2a-bea7-987ea0fbbca0",
   "metadata": {},
   "source": [
    "## 1.How to create Data Series?"
   ]
  },
  {
   "cell_type": "code",
   "execution_count": 34,
   "id": "1e68b379-c17c-44d4-a82a-91e7f0c34109",
   "metadata": {},
   "outputs": [],
   "source": [
    "import pandas as pd"
   ]
  },
  {
   "cell_type": "code",
   "execution_count": 62,
   "id": "09e3772a-177e-463d-839f-a8ba71c98472",
   "metadata": {},
   "outputs": [
    {
     "data": {
      "text/plain": [
       "0    London\n",
       "1    Warsaw\n",
       "2    Berlin\n",
       "3     Paris\n",
       "dtype: object"
      ]
     },
     "execution_count": 62,
     "metadata": {},
     "output_type": "execute_result"
    }
   ],
   "source": [
    "cities = [\"London\", \"Warsaw\", \"Berlin\", \"Paris\"]\n",
    "pd.Series(cities)"
   ]
  },
  {
   "cell_type": "code",
   "execution_count": 64,
   "id": "2e24e570-ad82-4467-8ceb-d1524a95cd06",
   "metadata": {},
   "outputs": [
    {
     "data": {
      "text/plain": [
       "0        Cat\n",
       "1        Dog\n",
       "2     Parrot\n",
       "3    Hamster\n",
       "dtype: object"
      ]
     },
     "execution_count": 64,
     "metadata": {},
     "output_type": "execute_result"
    }
   ],
   "source": [
    "pd.Series([\"Cat\", \"Dog\", \"Parrot\", \"Hamster\"])"
   ]
  },
  {
   "cell_type": "markdown",
   "id": "f29db8fc-05cf-47d7-8e52-38119f2be9d2",
   "metadata": {},
   "source": [
    "\n",
    "If you want to create a Data Series with your **own names of indexes**, ypu should use a **dictionary**."
   ]
  },
  {
   "cell_type": "code",
   "execution_count": 71,
   "id": "9064f7b8-3295-4854-a322-8370beaf44a0",
   "metadata": {},
   "outputs": [
    {
     "data": {
      "text/plain": [
       "name      Jack\n",
       "type       cat\n",
       "color    black\n",
       "dtype: object"
      ]
     },
     "execution_count": 71,
     "metadata": {},
     "output_type": "execute_result"
    }
   ],
   "source": [
    "pet = {\"name\" : \"Jack\", \"type\" : \"cat\", \"color\" : \"black\"}\n",
    "pd.Series(pet)"
   ]
  },
  {
   "cell_type": "markdown",
   "id": "0f082efd-60f2-4bc7-9538-4dcbd15341dc",
   "metadata": {},
   "source": [
    "### Exercises:\n",
    "\n",
    "1. Create a list of week days and give it a name **weekdays**.\n",
    "2. Create Data Series object based od created **weekdays** list, and assign it to variable **weekdaysSeries**. Display this variable.\n",
    "3. Create list **freeDays**. List should contains the same amount of elements like **weekdays** list. In the next positions in the list assign value **True** if the day is free or **False** if the day is not free.\n",
    "4. Create **freeDaysSeries** Data Series object based on **freeDays** list. Display created variable. What is the type of list?\n",
    "5. Create dictionary **holidays**. Key is the name of holiday, a value is date.\n",
    "6. Create Data Series **holidaysSeries** based on created dictionary."
   ]
  },
  {
   "cell_type": "markdown",
   "id": "6bff497c-1d92-4e50-9b5e-a7071575f51a",
   "metadata": {},
   "source": [
    "### Solutions:"
   ]
  },
  {
   "cell_type": "code",
   "execution_count": 102,
   "id": "d8e362d1-0c36-4f5c-834e-1aeb18b11b39",
   "metadata": {},
   "outputs": [
    {
     "data": {
      "text/plain": [
       "0       Monday\n",
       "1      Tuesday\n",
       "2    Wendesday\n",
       "3     Thursday\n",
       "4       Friday\n",
       "5     Saturday\n",
       "6       Sunday\n",
       "dtype: object"
      ]
     },
     "execution_count": 102,
     "metadata": {},
     "output_type": "execute_result"
    }
   ],
   "source": [
    "weekdays = [\"Monday\", \"Tuesday\", \"Wendesday\", \"Thursday\", \"Friday\", \"Saturday\", \"Sunday\"]\n",
    "weekdaysSeries = pd.Series(weekdays)\n",
    "weekdaysSeries"
   ]
  },
  {
   "cell_type": "code",
   "execution_count": 108,
   "id": "763130ba-1674-47c2-b4f9-940f9349dd48",
   "metadata": {},
   "outputs": [
    {
     "data": {
      "text/plain": [
       "0    False\n",
       "1    False\n",
       "2    False\n",
       "3    False\n",
       "4    False\n",
       "5     True\n",
       "6     True\n",
       "dtype: bool"
      ]
     },
     "execution_count": 108,
     "metadata": {},
     "output_type": "execute_result"
    }
   ],
   "source": [
    "freeDays = [False, False, False, False, False, True, True]\n",
    "freeDaysSeries = pd.Series(freeDays)\n",
    "freeDaysSeries"
   ]
  },
  {
   "cell_type": "code",
   "execution_count": 118,
   "id": "1d3a27bc-984e-4a04-9734-d80ba6e7edcc",
   "metadata": {},
   "outputs": [
    {
     "data": {
      "text/plain": [
       "New year    2025-01-01\n",
       "Epiphany    2025-01-06\n",
       "Easter      2025-04-01\n",
       "dtype: object"
      ]
     },
     "execution_count": 118,
     "metadata": {},
     "output_type": "execute_result"
    }
   ],
   "source": [
    "holidays = {\"New year\" : \"2025-01-01\", \"Epiphany\" : \"2025-01-06\", \"Easter\" : \"2025-04-01\"}\n",
    "holidaysSeries = pd.Series(holidays)\n",
    "holidaysSeries"
   ]
  },
  {
   "cell_type": "markdown",
   "id": "06f49782-bd18-4dad-a364-10ee6bf52e0d",
   "metadata": {},
   "source": [
    "## 2. Data Series attributes\n",
    "\n",
    "1. **size** - display size of the Data Series\n",
    "2. **is_uniqe** - display **True** if all elements are uniqe.\n",
    "3. **is_monotonic_decresing/decresing** - check monotonic of elements. For example in alphabetical order.\n",
    "4. **values** - show all values in DS.\n",
    "5. **dtype** - show type of DS.\n",
    "6. **shape** - shape of DS.\n",
    "7. **axes** - axes of DS.\n",
    "8. **nbytes** - how many memory has DS."
   ]
  },
  {
   "cell_type": "markdown",
   "id": "8e61af4b-15df-40ac-8c95-c31300ead6be",
   "metadata": {},
   "source": [
    "### Exercises:\n",
    "\n",
    "1. Create a list with 100000 random numbers elements.\n",
    "2. Create **dataAsFloatSeries** DS object based on random list.\n",
    "3. Display all atributes.\n",
    "4. Create a list again, but each random number should be string.\n",
    "5. Create **dataAsStringSeries** DS object based on random list.\n",
    "6. Display attributes: **size**, **nbytes**, **dtype**."
   ]
  },
  {
   "cell_type": "markdown",
   "id": "bae1a599-327b-441e-8902-0d2ff9d96a41",
   "metadata": {},
   "source": [
    "### Solutions:"
   ]
  },
  {
   "cell_type": "code",
   "execution_count": 148,
   "id": "ec56a5ee-501d-49d5-804a-e00a1a4cdf1b",
   "metadata": {},
   "outputs": [
    {
     "data": {
      "text/plain": [
       "0            0.000000\n",
       "1            0.979406\n",
       "2            1.959579\n",
       "3            0.582970\n",
       "4            1.155358\n",
       "             ...     \n",
       "99995    30502.665301\n",
       "99996    74073.741310\n",
       "99997    88220.968299\n",
       "99998    69145.763693\n",
       "99999    15304.667810\n",
       "Length: 100000, dtype: float64"
      ]
     },
     "execution_count": 148,
     "metadata": {},
     "output_type": "execute_result"
    }
   ],
   "source": [
    "import random as rnd\n",
    "\n",
    "dataAsFloatSeries = pd.Series([i*rnd.random() for i in range(100000)])\n",
    "dataAsFloatSeries"
   ]
  },
  {
   "cell_type": "code",
   "execution_count": 150,
   "id": "dd4c043c-7fab-4277-89e6-3273e2ef046a",
   "metadata": {},
   "outputs": [
    {
     "data": {
      "text/plain": [
       "100000"
      ]
     },
     "execution_count": 150,
     "metadata": {},
     "output_type": "execute_result"
    }
   ],
   "source": [
    "dataAsFloatSeries.size"
   ]
  },
  {
   "cell_type": "code",
   "execution_count": 160,
   "id": "b603a260-7aba-4c3f-86b4-49bfee02b5e2",
   "metadata": {},
   "outputs": [
    {
     "data": {
      "text/plain": [
       "True"
      ]
     },
     "execution_count": 160,
     "metadata": {},
     "output_type": "execute_result"
    }
   ],
   "source": [
    "dataAsFloatSeries.is_unique"
   ]
  },
  {
   "cell_type": "code",
   "execution_count": 164,
   "id": "05cde448-5c50-4116-ae53-861611d75fe4",
   "metadata": {},
   "outputs": [
    {
     "data": {
      "text/plain": [
       "800000"
      ]
     },
     "execution_count": 164,
     "metadata": {},
     "output_type": "execute_result"
    }
   ],
   "source": [
    "dataAsFloatSeries.nbytes"
   ]
  },
  {
   "cell_type": "code",
   "execution_count": 166,
   "id": "12a08e55-6e17-497e-a62f-ec7f983ba2dc",
   "metadata": {},
   "outputs": [
    {
     "data": {
      "text/plain": [
       "(100000,)"
      ]
     },
     "execution_count": 166,
     "metadata": {},
     "output_type": "execute_result"
    }
   ],
   "source": [
    "dataAsFloatSeries.shape"
   ]
  },
  {
   "cell_type": "code",
   "execution_count": 176,
   "id": "3f1b1299-65b1-4026-8b1c-10c03c580582",
   "metadata": {},
   "outputs": [
    {
     "data": {
      "text/plain": [
       "0                       0.0\n",
       "1        0.5590690337915314\n",
       "2        1.8840293434200341\n",
       "3        0.5253851075830951\n",
       "4         1.356009402868668\n",
       "                ...        \n",
       "99995     70872.99564548633\n",
       "99996     32929.39784504684\n",
       "99997    17457.305000124663\n",
       "99998     85756.87108959926\n",
       "99999     80728.02905133994\n",
       "Length: 100000, dtype: object"
      ]
     },
     "execution_count": 176,
     "metadata": {},
     "output_type": "execute_result"
    }
   ],
   "source": [
    "dataAsStringSeries = pd.Series([str(i*rnd.random()) for i in range(100000)])\n",
    "dataAsStringSeries"
   ]
  },
  {
   "cell_type": "code",
   "execution_count": 180,
   "id": "540cc0b8-5529-4002-b3a4-1218a9406f75",
   "metadata": {},
   "outputs": [
    {
     "data": {
      "text/plain": [
       "100000"
      ]
     },
     "execution_count": 180,
     "metadata": {},
     "output_type": "execute_result"
    }
   ],
   "source": [
    "dataAsStringSeries.size"
   ]
  },
  {
   "cell_type": "code",
   "execution_count": 182,
   "id": "87a755d5-553c-4b2b-8488-99d41dfbb298",
   "metadata": {},
   "outputs": [
    {
     "data": {
      "text/plain": [
       "800000"
      ]
     },
     "execution_count": 182,
     "metadata": {},
     "output_type": "execute_result"
    }
   ],
   "source": [
    "dataAsStringSeries.nbytes"
   ]
  },
  {
   "cell_type": "code",
   "execution_count": 184,
   "id": "00b770c0-c256-4b1a-bded-cdcdf22dfc26",
   "metadata": {},
   "outputs": [
    {
     "data": {
      "text/plain": [
       "dtype('O')"
      ]
     },
     "execution_count": 184,
     "metadata": {},
     "output_type": "execute_result"
    }
   ],
   "source": [
    "dataAsStringSeries.dtype"
   ]
  },
  {
   "cell_type": "markdown",
   "id": "4f852a3e-c0f7-4cfd-a5de-f5b6ba8a1d75",
   "metadata": {},
   "source": [
    "## 3. Data Series methods\n",
    "\n",
    "1. sum() - sum of elements in Data Series object.\n",
    "2. min() - minimal value in Data Series object.\n",
    "3. max() - maimal value in DS.\n",
    "4. mean() - mean of elements in DS.\n",
    "5. count() - amount of elements in DS. \n",
    "6. product() - mulitiplication of each element in DS.\n",
    "7. to_list() - change Data Series to object.\n",
    "8. add() - adds each value in Data Series with a specific way."
   ]
  },
  {
   "cell_type": "markdown",
   "id": "35eaf65a-b724-41fe-b5c4-c5c0bdc1d54e",
   "metadata": {},
   "source": [
    "### Exercises:\n",
    "1. Creaete two lists:\n",
    "   - **cities** with the names of three biggest countries in the world: Shanghai, Beijing, Istanbul.\n",
    "   - **population** with the amount of the citizents in each city in **cities** list.\n",
    "2. Create citipop Data Series variable. The idnex of DS should be a name of the city from **cities** and the value sould be a **population**. Create this object with passing aguments by position.\n",
    "3. Do the same steps like before, but create DS with names of aguments.\n",
    "4. What is the sum of all citizents?\n",
    "5. What is the mean?\n",
    "6. Show the index by methon and by attribute.\n",
    "7. Show the values of **citypop**."
   ]
  },
  {
   "cell_type": "markdown",
   "id": "a5dc8ff5-19f2-4cf7-a434-d500f99e2d95",
   "metadata": {},
   "source": [
    "### Solutuions:"
   ]
  },
  {
   "cell_type": "code",
   "execution_count": 9,
   "id": "2da57beb-54aa-485d-8ce8-ab9a90cae2d8",
   "metadata": {},
   "outputs": [],
   "source": [
    "import pandas as pd\n",
    "cities = [\"Shanghai\", \"Beijing\", \"Istanbul\"]\n",
    "population = [24_870_000, 21_766_000, 15_660_000]"
   ]
  },
  {
   "cell_type": "code",
   "execution_count": 25,
   "id": "49a6b84f-d0e8-4cbe-96cc-3a2993b2a4df",
   "metadata": {},
   "outputs": [
    {
     "data": {
      "text/plain": [
       "Shanghai    24870000\n",
       "Beijing     21766000\n",
       "Istanbul    15660000\n",
       "dtype: int64"
      ]
     },
     "execution_count": 25,
     "metadata": {},
     "output_type": "execute_result"
    }
   ],
   "source": [
    "citypop = pd.Series(population, cities)\n",
    "citypop"
   ]
  },
  {
   "cell_type": "code",
   "execution_count": 19,
   "id": "1fedfa94-fb98-41e6-b528-d94308fe79ab",
   "metadata": {},
   "outputs": [
    {
     "data": {
      "text/plain": [
       "Shanghai    24870000\n",
       "Beijing     21766000\n",
       "Istanbul    15660000\n",
       "dtype: int64"
      ]
     },
     "execution_count": 19,
     "metadata": {},
     "output_type": "execute_result"
    }
   ],
   "source": [
    "citypop2 = pd.Series(index = cities, data = population)\n",
    "citypop2"
   ]
  },
  {
   "cell_type": "code",
   "execution_count": 27,
   "id": "e0e2f8d5-8225-41a1-bd53-173cc15bb1fe",
   "metadata": {},
   "outputs": [
    {
     "data": {
      "text/plain": [
       "62296000"
      ]
     },
     "execution_count": 27,
     "metadata": {},
     "output_type": "execute_result"
    }
   ],
   "source": [
    "citypop.sum()"
   ]
  },
  {
   "cell_type": "code",
   "execution_count": 29,
   "id": "9d66034d-cfb9-45d3-8457-c519ed7fde69",
   "metadata": {},
   "outputs": [
    {
     "data": {
      "text/plain": [
       "20765333.333333332"
      ]
     },
     "execution_count": 29,
     "metadata": {},
     "output_type": "execute_result"
    }
   ],
   "source": [
    "citypop.mean()"
   ]
  },
  {
   "cell_type": "code",
   "execution_count": 31,
   "id": "ebe6382b-54af-42fb-9a25-ba0b81fd5e47",
   "metadata": {},
   "outputs": [
    {
     "data": {
      "text/plain": [
       "Index(['Shanghai', 'Beijing', 'Istanbul'], dtype='object')"
      ]
     },
     "execution_count": 31,
     "metadata": {},
     "output_type": "execute_result"
    }
   ],
   "source": [
    "citypop.index"
   ]
  },
  {
   "cell_type": "code",
   "execution_count": 39,
   "id": "64dfa4c9-031d-4539-9cbf-fc2b357c335f",
   "metadata": {},
   "outputs": [
    {
     "data": {
      "text/plain": [
       "array([24870000, 21766000, 15660000], dtype=int64)"
      ]
     },
     "execution_count": 39,
     "metadata": {},
     "output_type": "execute_result"
    }
   ],
   "source": [
    "citypop.values"
   ]
  },
  {
   "cell_type": "markdown",
   "id": "d39f76d7-f5b2-40d6-a4fa-0c92de0d8662",
   "metadata": {},
   "source": [
    "## 4. Data Filtering in Data Series"
   ]
  },
  {
   "cell_type": "markdown",
   "id": "1ac3c0f0-8441-4505-a757-8e532e2b3030",
   "metadata": {},
   "source": [
    "### Boolean indexing\n",
    "\n",
    "This is a fast and simple way of filtering data in Data Series. Use it, when you just want show filtered data and dont want to modify it."
   ]
  },
  {
   "cell_type": "code",
   "execution_count": 53,
   "id": "8be03d9b-2467-4182-8489-af2655089af3",
   "metadata": {},
   "outputs": [
    {
     "data": {
      "text/plain": [
       "0    False\n",
       "1    False\n",
       "2    False\n",
       "3     True\n",
       "4     True\n",
       "5     True\n",
       "dtype: bool"
      ]
     },
     "execution_count": 53,
     "metadata": {},
     "output_type": "execute_result"
    }
   ],
   "source": [
    "numbers = [1,2,3,4,5,6]\n",
    "numbersSeries = pd.Series(numbers)\n",
    "numbersSeries>3"
   ]
  },
  {
   "cell_type": "code",
   "execution_count": 55,
   "id": "2b2bc1ed-38bd-4694-b081-ca984684c50a",
   "metadata": {},
   "outputs": [
    {
     "data": {
      "text/plain": [
       "3    4\n",
       "4    5\n",
       "5    6\n",
       "dtype: int64"
      ]
     },
     "execution_count": 55,
     "metadata": {},
     "output_type": "execute_result"
    }
   ],
   "source": [
    "numbersSeries[numbersSeries>3]"
   ]
  },
  {
   "cell_type": "code",
   "execution_count": 65,
   "id": "e63da35d-ca3d-4e2c-af1f-3a59b374385f",
   "metadata": {},
   "outputs": [
    {
     "data": {
      "text/plain": [
       "0    False\n",
       "1    False\n",
       "2     True\n",
       "3     True\n",
       "dtype: bool"
      ]
     },
     "execution_count": 65,
     "metadata": {},
     "output_type": "execute_result"
    }
   ],
   "source": [
    "letters = list(\"abcd\")\n",
    "lettersSeries = pd.Series(letters)\n",
    "lettersSeries > \"b\""
   ]
  },
  {
   "cell_type": "code",
   "execution_count": 69,
   "id": "5c62fefb-5593-45f7-9bbb-2ea3fc567962",
   "metadata": {},
   "outputs": [
    {
     "data": {
      "text/plain": [
       "2    c\n",
       "3    d\n",
       "dtype: object"
      ]
     },
     "execution_count": 69,
     "metadata": {},
     "output_type": "execute_result"
    }
   ],
   "source": [
    "lettersSeries[lettersSeries>\"b\"]"
   ]
  },
  {
   "cell_type": "code",
   "execution_count": 73,
   "id": "f935c506-6a71-44b4-8bc1-3d28f227570d",
   "metadata": {},
   "outputs": [
    {
     "data": {
      "text/plain": [
       "0    a\n",
       "1    b\n",
       "2    c\n",
       "3    d\n",
       "dtype: object"
      ]
     },
     "execution_count": 73,
     "metadata": {},
     "output_type": "execute_result"
    }
   ],
   "source": [
    "lettersSeries"
   ]
  },
  {
   "cell_type": "markdown",
   "id": "66218305-fe07-4b10-bd14-cb053986d8bb",
   "metadata": {},
   "source": [
    "### Masking \n",
    "\n",
    "This is mroe complex way of filtering data in Data Series. In this method, we have more control. We can modify original Data Series, or we can swap mismatched data. We can also just drop missmatced data without modifing original Sereis."
   ]
  },
  {
   "cell_type": "code",
   "execution_count": 82,
   "id": "1b618a76-363b-49e4-a88d-17afc658c135",
   "metadata": {},
   "outputs": [
    {
     "data": {
      "text/plain": [
       "0    False\n",
       "1    False\n",
       "2    False\n",
       "3     True\n",
       "4     True\n",
       "5     True\n",
       "dtype: bool"
      ]
     },
     "execution_count": 82,
     "metadata": {},
     "output_type": "execute_result"
    }
   ],
   "source": [
    "numbers = [1,2,3,4,5,6]\n",
    "numbersSeries = pd.Series(numbers)\n",
    "numbersSeries > 3"
   ]
  },
  {
   "cell_type": "code",
   "execution_count": 91,
   "id": "115cff34-2c33-477f-a6ad-c5b75f80a70e",
   "metadata": {},
   "outputs": [
    {
     "data": {
      "text/plain": [
       "0    NaN\n",
       "1    NaN\n",
       "2    NaN\n",
       "3    4.0\n",
       "4    5.0\n",
       "5    6.0\n",
       "dtype: float64"
      ]
     },
     "execution_count": 91,
     "metadata": {},
     "output_type": "execute_result"
    }
   ],
   "source": [
    "numbersSeries.where(numbersSeries > 3)"
   ]
  },
  {
   "cell_type": "code",
   "execution_count": 93,
   "id": "35c1516a-513f-42c1-9d4e-a30ab462f384",
   "metadata": {},
   "outputs": [
    {
     "data": {
      "text/plain": [
       "0    not passing\n",
       "1    not passing\n",
       "2    not passing\n",
       "3              4\n",
       "4              5\n",
       "5              6\n",
       "dtype: object"
      ]
     },
     "execution_count": 93,
     "metadata": {},
     "output_type": "execute_result"
    }
   ],
   "source": [
    "numbersSeries.where(numbersSeries > 3, other = \"not passing\")"
   ]
  },
  {
   "cell_type": "code",
   "execution_count": 97,
   "id": "2426dade-2935-4c32-9f4f-42c0ac4ca444",
   "metadata": {},
   "outputs": [
    {
     "data": {
      "text/plain": [
       "3    4.0\n",
       "4    5.0\n",
       "5    6.0\n",
       "dtype: float64"
      ]
     },
     "execution_count": 97,
     "metadata": {},
     "output_type": "execute_result"
    }
   ],
   "source": [
    "numbersSeries.where(numbersSeries > 3).dropna()"
   ]
  },
  {
   "cell_type": "code",
   "execution_count": null,
   "id": "3407c29a-c4a5-46f5-9039-589fca0c658e",
   "metadata": {},
   "outputs": [],
   "source": []
  },
  {
   "cell_type": "code",
   "execution_count": 105,
   "id": "10deeecf-b724-4b30-b7a6-be67ec4125bb",
   "metadata": {},
   "outputs": [
    {
     "data": {
      "text/plain": [
       "0    NaN\n",
       "1    NaN\n",
       "2    NaN\n",
       "3    4.0\n",
       "4    5.0\n",
       "5    6.0\n",
       "dtype: float64"
      ]
     },
     "execution_count": 105,
     "metadata": {},
     "output_type": "execute_result"
    }
   ],
   "source": [
    "numbersSeries.where(numbersSeries > 3, inplace=True)\n",
    "numbersSeries"
   ]
  },
  {
   "cell_type": "code",
   "execution_count": 107,
   "id": "5dbf9571-3a39-4e3b-8339-5905241ac0ae",
   "metadata": {},
   "outputs": [
    {
     "data": {
      "text/plain": [
       "3    4.0\n",
       "4    5.0\n",
       "5    6.0\n",
       "dtype: float64"
      ]
     },
     "execution_count": 107,
     "metadata": {},
     "output_type": "execute_result"
    }
   ],
   "source": [
    "numbersSeries.dropna()"
   ]
  },
  {
   "cell_type": "code",
   "execution_count": 109,
   "id": "cb894275-559e-430a-b52b-ebfc755b3091",
   "metadata": {},
   "outputs": [
    {
     "data": {
      "text/plain": [
       "0    NaN\n",
       "1    NaN\n",
       "2    NaN\n",
       "3    4.0\n",
       "4    5.0\n",
       "5    6.0\n",
       "dtype: float64"
      ]
     },
     "execution_count": 109,
     "metadata": {},
     "output_type": "execute_result"
    }
   ],
   "source": [
    "numbersSeries"
   ]
  },
  {
   "cell_type": "code",
   "execution_count": 111,
   "id": "2bce70f9-495d-4c99-87cc-14afc88a5c62",
   "metadata": {},
   "outputs": [],
   "source": [
    "numbersSeries.dropna(inplace=True)"
   ]
  },
  {
   "cell_type": "code",
   "execution_count": 113,
   "id": "06b7533c-6d9d-45ae-a841-19ff42420cb9",
   "metadata": {},
   "outputs": [
    {
     "data": {
      "text/plain": [
       "3    4.0\n",
       "4    5.0\n",
       "5    6.0\n",
       "dtype: float64"
      ]
     },
     "execution_count": 113,
     "metadata": {},
     "output_type": "execute_result"
    }
   ],
   "source": [
    "numbersSeries"
   ]
  },
  {
   "cell_type": "markdown",
   "id": "3297f8dc-03cc-4501-9872-dddf30413137",
   "metadata": {},
   "source": [
    "### Filltering based on index"
   ]
  },
  {
   "cell_type": "code",
   "execution_count": 119,
   "id": "a895aa3b-5afb-46e3-9405-73aaf6e98f54",
   "metadata": {},
   "outputs": [
    {
     "data": {
      "text/plain": [
       "0    1\n",
       "1    2\n",
       "2    3\n",
       "3    4\n",
       "4    5\n",
       "5    6\n",
       "dtype: int64"
      ]
     },
     "execution_count": 119,
     "metadata": {},
     "output_type": "execute_result"
    }
   ],
   "source": [
    "numbersSeries = pd.Series(numbers)\n",
    "numbersSeries"
   ]
  },
  {
   "cell_type": "code",
   "execution_count": 125,
   "id": "d64b6cff-da6e-43b6-b7f5-178b3dc7d115",
   "metadata": {},
   "outputs": [
    {
     "data": {
      "text/plain": [
       "0    1\n",
       "2    3\n",
       "4    5\n",
       "dtype: int64"
      ]
     },
     "execution_count": 125,
     "metadata": {},
     "output_type": "execute_result"
    }
   ],
   "source": [
    "numbersSeries.filter(items=[0,2,4])"
   ]
  },
  {
   "cell_type": "markdown",
   "id": "29f4e0e6-809f-49a1-b55b-933f0202bc03",
   "metadata": {},
   "source": [
    "### Exercises: "
   ]
  },
  {
   "cell_type": "code",
   "execution_count": 138,
   "id": "e79eea82-d4fe-4674-858c-9ebf3430a29b",
   "metadata": {},
   "outputs": [],
   "source": [
    "accidentsNumber = [14,334,312,5823,9491,7486,4343]\n",
    "age = [ \"<6\", \"7-14\", \"15-17\", \"18-24\", \"25-39\", \"40-59\", \">60\"]\n",
    "accidents = pd.Series(index = age, data = accidentsNumber)"
   ]
  },
  {
   "cell_type": "markdown",
   "id": "915c07cb-659c-422b-b16f-48652ab0b6cf",
   "metadata": {},
   "source": [
    "1. Show only the groups that caused mroe than 1000 accidents. At first display **NaN** also, then eliminate it.\n",
    "2. Assign a value of previous command in a **incident100** variable. Display it.\n",
    "3. Make sure, that original Data Series has not changed.\n",
    "4. Display data for only **18-59** age.\n",
    "5. Filter original Data Series. Show only positions that have number of accidents less or equal 1000. Object should have only this values (modify original structure)."
   ]
  },
  {
   "cell_type": "markdown",
   "id": "51c022d2-9f7c-45b0-9901-9a1a471e116d",
   "metadata": {},
   "source": [
    "### Solutions: "
   ]
  },
  {
   "cell_type": "code",
   "execution_count": 143,
   "id": "5e237623-7365-4c4b-a1d1-e78ab1661a3d",
   "metadata": {},
   "outputs": [
    {
     "data": {
      "text/plain": [
       "<6          NaN\n",
       "7-14        NaN\n",
       "15-17       NaN\n",
       "18-24    5823.0\n",
       "25-39    9491.0\n",
       "40-59    7486.0\n",
       ">60      4343.0\n",
       "dtype: float64"
      ]
     },
     "execution_count": 143,
     "metadata": {},
     "output_type": "execute_result"
    }
   ],
   "source": [
    "accidents.where(accidents > 1000)"
   ]
  },
  {
   "cell_type": "code",
   "execution_count": 155,
   "id": "358e84d0-dfcc-45f8-857d-2aa850443b6a",
   "metadata": {},
   "outputs": [
    {
     "data": {
      "text/plain": [
       "Index(['18-24', '25-39', '40-59', '>60'], dtype='object')"
      ]
     },
     "execution_count": 155,
     "metadata": {},
     "output_type": "execute_result"
    }
   ],
   "source": [
    "accidents.where(accidents > 1000).dropna().index"
   ]
  },
  {
   "cell_type": "code",
   "execution_count": 157,
   "id": "b36e84eb-ec3e-485f-aafe-5b0c196654ab",
   "metadata": {},
   "outputs": [
    {
     "data": {
      "text/plain": [
       "18-24    5823.0\n",
       "25-39    9491.0\n",
       "40-59    7486.0\n",
       ">60      4343.0\n",
       "dtype: float64"
      ]
     },
     "execution_count": 157,
     "metadata": {},
     "output_type": "execute_result"
    }
   ],
   "source": [
    "accidents.where(accidents > 1000).dropna()"
   ]
  },
  {
   "cell_type": "code",
   "execution_count": 159,
   "id": "0aa4fc0d-96cd-4557-95ee-724e59a50201",
   "metadata": {},
   "outputs": [
    {
     "data": {
      "text/plain": [
       "18-24    5823\n",
       "25-39    9491\n",
       "40-59    7486\n",
       ">60      4343\n",
       "dtype: int64"
      ]
     },
     "execution_count": 159,
     "metadata": {},
     "output_type": "execute_result"
    }
   ],
   "source": [
    "accidents[accidents > 1000]"
   ]
  },
  {
   "cell_type": "code",
   "execution_count": 161,
   "id": "81e50fdc-0608-471a-b5e5-916bbed0ec63",
   "metadata": {},
   "outputs": [
    {
     "data": {
      "text/plain": [
       "Index(['18-24', '25-39', '40-59', '>60'], dtype='object')"
      ]
     },
     "execution_count": 161,
     "metadata": {},
     "output_type": "execute_result"
    }
   ],
   "source": [
    "accidents[accidents > 1000].index"
   ]
  },
  {
   "cell_type": "code",
   "execution_count": 165,
   "id": "14eb27f4-3946-424c-b33e-03aeba19b98c",
   "metadata": {},
   "outputs": [
    {
     "data": {
      "text/plain": [
       "18-24    5823.0\n",
       "25-39    9491.0\n",
       "40-59    7486.0\n",
       ">60      4343.0\n",
       "dtype: float64"
      ]
     },
     "execution_count": 165,
     "metadata": {},
     "output_type": "execute_result"
    }
   ],
   "source": [
    "incident1000 = accidents.where(accidents > 1000).dropna()\n",
    "incident1000"
   ]
  },
  {
   "cell_type": "code",
   "execution_count": 167,
   "id": "67f944d3-7c17-446e-be34-053db36bd05c",
   "metadata": {},
   "outputs": [
    {
     "data": {
      "text/plain": [
       "<6         14\n",
       "7-14      334\n",
       "15-17     312\n",
       "18-24    5823\n",
       "25-39    9491\n",
       "40-59    7486\n",
       ">60      4343\n",
       "dtype: int64"
      ]
     },
     "execution_count": 167,
     "metadata": {},
     "output_type": "execute_result"
    }
   ],
   "source": [
    "accidents"
   ]
  },
  {
   "cell_type": "code",
   "execution_count": 173,
   "id": "3691379f-ae9a-4f6d-bf7d-7367f509a336",
   "metadata": {},
   "outputs": [
    {
     "data": {
      "text/plain": [
       "18-24    5823\n",
       "25-39    9491\n",
       "40-59    7486\n",
       "dtype: int64"
      ]
     },
     "execution_count": 173,
     "metadata": {},
     "output_type": "execute_result"
    }
   ],
   "source": [
    "accidents.filter(items = [\"18-24\", \"25-39\", \"40-59\"])"
   ]
  },
  {
   "cell_type": "code",
   "execution_count": 177,
   "id": "16222a29-cf69-43ba-af0c-205f2b7179a2",
   "metadata": {},
   "outputs": [
    {
     "data": {
      "text/plain": [
       "<6        14.0\n",
       "7-14     334.0\n",
       "15-17    312.0\n",
       "dtype: float64"
      ]
     },
     "execution_count": 177,
     "metadata": {},
     "output_type": "execute_result"
    }
   ],
   "source": [
    "accidents.where(accidents <= 1000, inplace = True)\n",
    "accidents.dropna(inplace = True)\n",
    "accidents"
   ]
  },
  {
   "cell_type": "markdown",
   "id": "c61e3add-2465-4adc-829a-a89a90d81818",
   "metadata": {},
   "source": [
    "## 5. More complex filtering"
   ]
  },
  {
   "cell_type": "markdown",
   "id": "41b811fb-2f1d-4341-a831-22ffd758886c",
   "metadata": {},
   "source": [
    "## Exercises:"
   ]
  },
  {
   "cell_type": "code",
   "execution_count": 190,
   "id": "31d4d33a-7324-43ae-b60e-885e60b51fe6",
   "metadata": {},
   "outputs": [],
   "source": [
    "namesList = ['Albania','Austria','Belarus',\n",
    "'Belgium','Bulgaria','Croatia','Cyprus','Czech Republic','Denmark','Estonia',\n",
    "'Finland','France','Germany','Greece','Hungary','Iceland','Ireland','Italy',\n",
    "'Latvia','Lithuania','Luxembourg','Macedonia','Malta','Montenegro','Netherlands',\n",
    "'Norway','Poland','Portugal','Romania','Russia','Serbia','Slovenia','Spain', 'Sweden','Switzerland','United Kingdom','Turkey','Ukraine']\n",
    "energy2010List = [1947,8347,3564,8369,4560,3814,4623,6348,6328,6506,16483,7736,7264,5318,3876,\n",
    "51440,5911,5494,3230,3471,16830,3521,4171,5420,7010,24891,3797,4959,2551,\n",
    "6410,4359,6521,5707,14934,8175,2498,3550,5701]\n",
    "energy2012List  = [2118,8507,3698,7987,4762,3819,4057,6305,6039,6689,15687,7344,7270,5511,3919,\n",
    "53203,5665,5398,3588,3608,14696,3626,4761,5416,6871,23658,3899,4736,2604,\n",
    "6617,4387,6778,5573,14290,7886,2794,3641,5452]\n",
    "\n",
    "namesSeries = pd.Series(namesList)\n",
    "energy2010Series = pd.Series(energy2010List)\n",
    "energy2012Series = pd.Series(energy2012List)"
   ]
  },
  {
   "cell_type": "markdown",
   "id": "0b702845-6f9e-402b-befb-afe4c384db07",
   "metadata": {},
   "source": [
    "1. Create variables for mean of 2010 and 2012.\n",
    "2. Compare mean energy usage to energy usage in 2010 and 2012 separately (above mean).\n",
    "3. Show only countries that usage was above mean in 2010 and 2012.\n",
    "4. Compare mean energy in 2010 to energy use in 2010. (below).\n",
    "5. Check countries that has less usage in 2010 than mean in 2010 and at the same time mean in 2012 was higher than usage in 2012."
   ]
  },
  {
   "cell_type": "code",
   "execution_count": 205,
   "id": "f307b9c9-795e-4a84-b17a-2349d3c7bb5d",
   "metadata": {},
   "outputs": [
    {
     "data": {
      "text/plain": [
       "1         Austria\n",
       "3         Belgium\n",
       "10        Finland\n",
       "15        Iceland\n",
       "20     Luxembourg\n",
       "25         Norway\n",
       "33         Sweden\n",
       "34    Switzerland\n",
       "dtype: object"
      ]
     },
     "execution_count": 205,
     "metadata": {},
     "output_type": "execute_result"
    }
   ],
   "source": [
    "mean2010 = energy2010Series.mean()\n",
    "mean2012 = energy2012Series.mean()\n",
    "\n",
    "filterAboveMean2010 = energy2010Series > mean2010\n",
    "filterAboveMean2012 = energy2012Series > mean2012\n",
    "\n",
    "namesSeries.where(filterAboveMean2010 & filterAboveMean2012).dropna()"
   ]
  },
  {
   "cell_type": "code",
   "execution_count": 211,
   "id": "11d9573f-aebd-4987-9397-b37de5cd599d",
   "metadata": {},
   "outputs": [
    {
     "data": {
      "text/plain": [
       "Series([], dtype: object)"
      ]
     },
     "execution_count": 211,
     "metadata": {},
     "output_type": "execute_result"
    }
   ],
   "source": [
    "filterBelowMean2010 = energy2010Series < mean2010\n",
    "\n",
    "namesSeries.where(filterBelowMean2010 & filterAboveMean2012).dropna()"
   ]
  },
  {
   "cell_type": "markdown",
   "id": "c68341ce-c6d1-4831-8e6f-b3906336c1f5",
   "metadata": {},
   "source": [
    "## 6. Reading Series Objets"
   ]
  },
  {
   "cell_type": "code",
   "execution_count": 222,
   "id": "650a38b6-8709-4013-b58c-31c93a1fe419",
   "metadata": {},
   "outputs": [],
   "source": [
    "table = pd.read_csv(\"./data/pokemon.csv\")"
   ]
  },
  {
   "cell_type": "code",
   "execution_count": 226,
   "id": "55b7739d-e656-49ab-aa88-ac37bd94890a",
   "metadata": {},
   "outputs": [
    {
     "data": {
      "text/plain": [
       "pandas.core.frame.DataFrame"
      ]
     },
     "execution_count": 226,
     "metadata": {},
     "output_type": "execute_result"
    }
   ],
   "source": [
    "type(table)"
   ]
  },
  {
   "cell_type": "code",
   "execution_count": 228,
   "id": "a33da47a-6afd-42b4-a260-2cab114f9755",
   "metadata": {},
   "outputs": [
    {
     "data": {
      "text/html": [
       "<div>\n",
       "<style scoped>\n",
       "    .dataframe tbody tr th:only-of-type {\n",
       "        vertical-align: middle;\n",
       "    }\n",
       "\n",
       "    .dataframe tbody tr th {\n",
       "        vertical-align: top;\n",
       "    }\n",
       "\n",
       "    .dataframe thead th {\n",
       "        text-align: right;\n",
       "    }\n",
       "</style>\n",
       "<table border=\"1\" class=\"dataframe\">\n",
       "  <thead>\n",
       "    <tr style=\"text-align: right;\">\n",
       "      <th></th>\n",
       "      <th>#</th>\n",
       "      <th>Name</th>\n",
       "      <th>Type 1</th>\n",
       "      <th>Type 2</th>\n",
       "      <th>Total</th>\n",
       "      <th>HP</th>\n",
       "      <th>Attack</th>\n",
       "      <th>Defense</th>\n",
       "      <th>Sp. Atk</th>\n",
       "      <th>Sp. Def</th>\n",
       "      <th>Speed</th>\n",
       "      <th>Generation</th>\n",
       "      <th>Legendary</th>\n",
       "    </tr>\n",
       "  </thead>\n",
       "  <tbody>\n",
       "    <tr>\n",
       "      <th>0</th>\n",
       "      <td>1</td>\n",
       "      <td>Bulbasaur</td>\n",
       "      <td>Grass</td>\n",
       "      <td>Poison</td>\n",
       "      <td>318</td>\n",
       "      <td>45</td>\n",
       "      <td>49</td>\n",
       "      <td>49</td>\n",
       "      <td>65</td>\n",
       "      <td>65</td>\n",
       "      <td>45</td>\n",
       "      <td>1</td>\n",
       "      <td>False</td>\n",
       "    </tr>\n",
       "    <tr>\n",
       "      <th>1</th>\n",
       "      <td>2</td>\n",
       "      <td>Ivysaur</td>\n",
       "      <td>Grass</td>\n",
       "      <td>Poison</td>\n",
       "      <td>405</td>\n",
       "      <td>60</td>\n",
       "      <td>62</td>\n",
       "      <td>63</td>\n",
       "      <td>80</td>\n",
       "      <td>80</td>\n",
       "      <td>60</td>\n",
       "      <td>1</td>\n",
       "      <td>False</td>\n",
       "    </tr>\n",
       "    <tr>\n",
       "      <th>2</th>\n",
       "      <td>3</td>\n",
       "      <td>Venusaur</td>\n",
       "      <td>Grass</td>\n",
       "      <td>Poison</td>\n",
       "      <td>525</td>\n",
       "      <td>80</td>\n",
       "      <td>82</td>\n",
       "      <td>83</td>\n",
       "      <td>100</td>\n",
       "      <td>100</td>\n",
       "      <td>80</td>\n",
       "      <td>1</td>\n",
       "      <td>False</td>\n",
       "    </tr>\n",
       "    <tr>\n",
       "      <th>3</th>\n",
       "      <td>3</td>\n",
       "      <td>VenusaurMega Venusaur</td>\n",
       "      <td>Grass</td>\n",
       "      <td>Poison</td>\n",
       "      <td>625</td>\n",
       "      <td>80</td>\n",
       "      <td>100</td>\n",
       "      <td>123</td>\n",
       "      <td>122</td>\n",
       "      <td>120</td>\n",
       "      <td>80</td>\n",
       "      <td>1</td>\n",
       "      <td>False</td>\n",
       "    </tr>\n",
       "    <tr>\n",
       "      <th>4</th>\n",
       "      <td>4</td>\n",
       "      <td>Charmander</td>\n",
       "      <td>Fire</td>\n",
       "      <td>NaN</td>\n",
       "      <td>309</td>\n",
       "      <td>39</td>\n",
       "      <td>52</td>\n",
       "      <td>43</td>\n",
       "      <td>60</td>\n",
       "      <td>50</td>\n",
       "      <td>65</td>\n",
       "      <td>1</td>\n",
       "      <td>False</td>\n",
       "    </tr>\n",
       "    <tr>\n",
       "      <th>...</th>\n",
       "      <td>...</td>\n",
       "      <td>...</td>\n",
       "      <td>...</td>\n",
       "      <td>...</td>\n",
       "      <td>...</td>\n",
       "      <td>...</td>\n",
       "      <td>...</td>\n",
       "      <td>...</td>\n",
       "      <td>...</td>\n",
       "      <td>...</td>\n",
       "      <td>...</td>\n",
       "      <td>...</td>\n",
       "      <td>...</td>\n",
       "    </tr>\n",
       "    <tr>\n",
       "      <th>795</th>\n",
       "      <td>719</td>\n",
       "      <td>Diancie</td>\n",
       "      <td>Rock</td>\n",
       "      <td>Fairy</td>\n",
       "      <td>600</td>\n",
       "      <td>50</td>\n",
       "      <td>100</td>\n",
       "      <td>150</td>\n",
       "      <td>100</td>\n",
       "      <td>150</td>\n",
       "      <td>50</td>\n",
       "      <td>6</td>\n",
       "      <td>True</td>\n",
       "    </tr>\n",
       "    <tr>\n",
       "      <th>796</th>\n",
       "      <td>719</td>\n",
       "      <td>DiancieMega Diancie</td>\n",
       "      <td>Rock</td>\n",
       "      <td>Fairy</td>\n",
       "      <td>700</td>\n",
       "      <td>50</td>\n",
       "      <td>160</td>\n",
       "      <td>110</td>\n",
       "      <td>160</td>\n",
       "      <td>110</td>\n",
       "      <td>110</td>\n",
       "      <td>6</td>\n",
       "      <td>True</td>\n",
       "    </tr>\n",
       "    <tr>\n",
       "      <th>797</th>\n",
       "      <td>720</td>\n",
       "      <td>HoopaHoopa Confined</td>\n",
       "      <td>Psychic</td>\n",
       "      <td>Ghost</td>\n",
       "      <td>600</td>\n",
       "      <td>80</td>\n",
       "      <td>110</td>\n",
       "      <td>60</td>\n",
       "      <td>150</td>\n",
       "      <td>130</td>\n",
       "      <td>70</td>\n",
       "      <td>6</td>\n",
       "      <td>True</td>\n",
       "    </tr>\n",
       "    <tr>\n",
       "      <th>798</th>\n",
       "      <td>720</td>\n",
       "      <td>HoopaHoopa Unbound</td>\n",
       "      <td>Psychic</td>\n",
       "      <td>Dark</td>\n",
       "      <td>680</td>\n",
       "      <td>80</td>\n",
       "      <td>160</td>\n",
       "      <td>60</td>\n",
       "      <td>170</td>\n",
       "      <td>130</td>\n",
       "      <td>80</td>\n",
       "      <td>6</td>\n",
       "      <td>True</td>\n",
       "    </tr>\n",
       "    <tr>\n",
       "      <th>799</th>\n",
       "      <td>721</td>\n",
       "      <td>Volcanion</td>\n",
       "      <td>Fire</td>\n",
       "      <td>Water</td>\n",
       "      <td>600</td>\n",
       "      <td>80</td>\n",
       "      <td>110</td>\n",
       "      <td>120</td>\n",
       "      <td>130</td>\n",
       "      <td>90</td>\n",
       "      <td>70</td>\n",
       "      <td>6</td>\n",
       "      <td>True</td>\n",
       "    </tr>\n",
       "  </tbody>\n",
       "</table>\n",
       "<p>800 rows × 13 columns</p>\n",
       "</div>"
      ],
      "text/plain": [
       "       #                   Name   Type 1  Type 2  Total  HP  Attack  Defense  \\\n",
       "0      1              Bulbasaur    Grass  Poison    318  45      49       49   \n",
       "1      2                Ivysaur    Grass  Poison    405  60      62       63   \n",
       "2      3               Venusaur    Grass  Poison    525  80      82       83   \n",
       "3      3  VenusaurMega Venusaur    Grass  Poison    625  80     100      123   \n",
       "4      4             Charmander     Fire     NaN    309  39      52       43   \n",
       "..   ...                    ...      ...     ...    ...  ..     ...      ...   \n",
       "795  719                Diancie     Rock   Fairy    600  50     100      150   \n",
       "796  719    DiancieMega Diancie     Rock   Fairy    700  50     160      110   \n",
       "797  720    HoopaHoopa Confined  Psychic   Ghost    600  80     110       60   \n",
       "798  720     HoopaHoopa Unbound  Psychic    Dark    680  80     160       60   \n",
       "799  721              Volcanion     Fire   Water    600  80     110      120   \n",
       "\n",
       "     Sp. Atk  Sp. Def  Speed  Generation  Legendary  \n",
       "0         65       65     45           1      False  \n",
       "1         80       80     60           1      False  \n",
       "2        100      100     80           1      False  \n",
       "3        122      120     80           1      False  \n",
       "4         60       50     65           1      False  \n",
       "..       ...      ...    ...         ...        ...  \n",
       "795      100      150     50           6       True  \n",
       "796      160      110    110           6       True  \n",
       "797      150      130     70           6       True  \n",
       "798      170      130     80           6       True  \n",
       "799      130       90     70           6       True  \n",
       "\n",
       "[800 rows x 13 columns]"
      ]
     },
     "execution_count": 228,
     "metadata": {},
     "output_type": "execute_result"
    }
   ],
   "source": [
    "table"
   ]
  },
  {
   "cell_type": "code",
   "execution_count": 236,
   "id": "e6d0dcf5-b950-4251-8ff5-f1a2ba66585d",
   "metadata": {},
   "outputs": [],
   "source": [
    "names = pd.read_csv(\"./data/pokemon.csv\", usecols = ['Name'])"
   ]
  },
  {
   "cell_type": "code",
   "execution_count": 238,
   "id": "a02bd370-a0fc-47f6-b07b-84fae259d556",
   "metadata": {},
   "outputs": [
    {
     "data": {
      "text/html": [
       "<div>\n",
       "<style scoped>\n",
       "    .dataframe tbody tr th:only-of-type {\n",
       "        vertical-align: middle;\n",
       "    }\n",
       "\n",
       "    .dataframe tbody tr th {\n",
       "        vertical-align: top;\n",
       "    }\n",
       "\n",
       "    .dataframe thead th {\n",
       "        text-align: right;\n",
       "    }\n",
       "</style>\n",
       "<table border=\"1\" class=\"dataframe\">\n",
       "  <thead>\n",
       "    <tr style=\"text-align: right;\">\n",
       "      <th></th>\n",
       "      <th>Name</th>\n",
       "    </tr>\n",
       "  </thead>\n",
       "  <tbody>\n",
       "    <tr>\n",
       "      <th>0</th>\n",
       "      <td>Bulbasaur</td>\n",
       "    </tr>\n",
       "    <tr>\n",
       "      <th>1</th>\n",
       "      <td>Ivysaur</td>\n",
       "    </tr>\n",
       "    <tr>\n",
       "      <th>2</th>\n",
       "      <td>Venusaur</td>\n",
       "    </tr>\n",
       "    <tr>\n",
       "      <th>3</th>\n",
       "      <td>VenusaurMega Venusaur</td>\n",
       "    </tr>\n",
       "    <tr>\n",
       "      <th>4</th>\n",
       "      <td>Charmander</td>\n",
       "    </tr>\n",
       "    <tr>\n",
       "      <th>...</th>\n",
       "      <td>...</td>\n",
       "    </tr>\n",
       "    <tr>\n",
       "      <th>795</th>\n",
       "      <td>Diancie</td>\n",
       "    </tr>\n",
       "    <tr>\n",
       "      <th>796</th>\n",
       "      <td>DiancieMega Diancie</td>\n",
       "    </tr>\n",
       "    <tr>\n",
       "      <th>797</th>\n",
       "      <td>HoopaHoopa Confined</td>\n",
       "    </tr>\n",
       "    <tr>\n",
       "      <th>798</th>\n",
       "      <td>HoopaHoopa Unbound</td>\n",
       "    </tr>\n",
       "    <tr>\n",
       "      <th>799</th>\n",
       "      <td>Volcanion</td>\n",
       "    </tr>\n",
       "  </tbody>\n",
       "</table>\n",
       "<p>800 rows × 1 columns</p>\n",
       "</div>"
      ],
      "text/plain": [
       "                      Name\n",
       "0                Bulbasaur\n",
       "1                  Ivysaur\n",
       "2                 Venusaur\n",
       "3    VenusaurMega Venusaur\n",
       "4               Charmander\n",
       "..                     ...\n",
       "795                Diancie\n",
       "796    DiancieMega Diancie\n",
       "797    HoopaHoopa Confined\n",
       "798     HoopaHoopa Unbound\n",
       "799              Volcanion\n",
       "\n",
       "[800 rows x 1 columns]"
      ]
     },
     "execution_count": 238,
     "metadata": {},
     "output_type": "execute_result"
    }
   ],
   "source": [
    "names"
   ]
  },
  {
   "cell_type": "code",
   "execution_count": 240,
   "id": "d1f32d59-8465-4723-a7ed-370a91d18eb8",
   "metadata": {},
   "outputs": [
    {
     "data": {
      "text/plain": [
       "pandas.core.frame.DataFrame"
      ]
     },
     "execution_count": 240,
     "metadata": {},
     "output_type": "execute_result"
    }
   ],
   "source": [
    "type(names)"
   ]
  },
  {
   "cell_type": "code",
   "execution_count": 252,
   "id": "b0353628-71d6-4c3e-9c70-426f085c2cec",
   "metadata": {},
   "outputs": [
    {
     "data": {
      "text/plain": [
       "0                  Bulbasaur\n",
       "1                    Ivysaur\n",
       "2                   Venusaur\n",
       "3      VenusaurMega Venusaur\n",
       "4                 Charmander\n",
       "               ...          \n",
       "795                  Diancie\n",
       "796      DiancieMega Diancie\n",
       "797      HoopaHoopa Confined\n",
       "798       HoopaHoopa Unbound\n",
       "799                Volcanion\n",
       "Name: Name, Length: 800, dtype: object"
      ]
     },
     "execution_count": 252,
     "metadata": {},
     "output_type": "execute_result"
    }
   ],
   "source": [
    "names = pd.read_csv(\"./data/pokemon.csv\", usecols = ['Name']).squeeze()\n",
    "names"
   ]
  },
  {
   "cell_type": "code",
   "execution_count": 254,
   "id": "7e364ae1-c39d-466a-8c5f-25ebd4e7dbb4",
   "metadata": {},
   "outputs": [
    {
     "data": {
      "text/plain": [
       "pandas.core.series.Series"
      ]
     },
     "execution_count": 254,
     "metadata": {},
     "output_type": "execute_result"
    }
   ],
   "source": [
    "type(names)"
   ]
  },
  {
   "cell_type": "markdown",
   "id": "09b284e8-0418-4030-beef-1d66f9481afd",
   "metadata": {},
   "source": [
    "### Exercises:\n",
    "\n",
    "1. Import **FormalEducation** column from **StackOverflowDeveloperSurvey.csv** as one column **DataFrameObject** (variable name edcation).\n",
    "2. Check type.\n",
    "3. Show 5 first rows.\n",
    "4. Repeat first step, but now import as **Data Series**.\n",
    "5. Check type.\n",
    "6. Show 10 last rows.\n",
    "7. Import whole table to **allInfo** variable.\n",
    "8. Initialize **country** Data Series object, take advantage of column **country** from **allInfo**.\n",
    "9. Show 5 first rows from country.\n",
    "10. Create filterOnlyUsa, **True** if value in countries is **United States**.\n",
    "11. Show 5 first rows from filterOnlyUsa.\n",
    "12. Show data from **education**:\n",
    "    - Information should be only about persons who deggr in USA.\n",
    "    - NaN should be deleted.\n",
    "    - Show only 10 first rows.\n",
    "    - Use one command."
   ]
  },
  {
   "cell_type": "code",
   "execution_count": 264,
   "id": "45c146b8-c1f8-4f8a-8150-f77772359740",
   "metadata": {},
   "outputs": [
    {
     "data": {
      "text/plain": [
       "pandas.core.frame.DataFrame"
      ]
     },
     "execution_count": 264,
     "metadata": {},
     "output_type": "execute_result"
    }
   ],
   "source": [
    "education = pd.read_csv(\"./data/StackOverflowDeveloperSurvey.csv\", usecols=['FormalEducation'])\n",
    "type(education)"
   ]
  },
  {
   "cell_type": "code",
   "execution_count": 266,
   "id": "0b0c6e21-379c-4ae1-9dd7-c0db704bc2fd",
   "metadata": {},
   "outputs": [
    {
     "data": {
      "text/html": [
       "<div>\n",
       "<style scoped>\n",
       "    .dataframe tbody tr th:only-of-type {\n",
       "        vertical-align: middle;\n",
       "    }\n",
       "\n",
       "    .dataframe tbody tr th {\n",
       "        vertical-align: top;\n",
       "    }\n",
       "\n",
       "    .dataframe thead th {\n",
       "        text-align: right;\n",
       "    }\n",
       "</style>\n",
       "<table border=\"1\" class=\"dataframe\">\n",
       "  <thead>\n",
       "    <tr style=\"text-align: right;\">\n",
       "      <th></th>\n",
       "      <th>FormalEducation</th>\n",
       "    </tr>\n",
       "  </thead>\n",
       "  <tbody>\n",
       "    <tr>\n",
       "      <th>0</th>\n",
       "      <td>Secondary school</td>\n",
       "    </tr>\n",
       "    <tr>\n",
       "      <th>1</th>\n",
       "      <td>Some college/university study without earning ...</td>\n",
       "    </tr>\n",
       "    <tr>\n",
       "      <th>2</th>\n",
       "      <td>Bachelor's degree</td>\n",
       "    </tr>\n",
       "    <tr>\n",
       "      <th>3</th>\n",
       "      <td>Doctoral degree</td>\n",
       "    </tr>\n",
       "    <tr>\n",
       "      <th>4</th>\n",
       "      <td>Master's degree</td>\n",
       "    </tr>\n",
       "  </tbody>\n",
       "</table>\n",
       "</div>"
      ],
      "text/plain": [
       "                                     FormalEducation\n",
       "0                                   Secondary school\n",
       "1  Some college/university study without earning ...\n",
       "2                                  Bachelor's degree\n",
       "3                                    Doctoral degree\n",
       "4                                    Master's degree"
      ]
     },
     "execution_count": 266,
     "metadata": {},
     "output_type": "execute_result"
    }
   ],
   "source": [
    "education.head()"
   ]
  },
  {
   "cell_type": "code",
   "execution_count": 268,
   "id": "4fc84732-8837-4678-abe3-8ff5a56e197a",
   "metadata": {},
   "outputs": [
    {
     "data": {
      "text/plain": [
       "pandas.core.series.Series"
      ]
     },
     "execution_count": 268,
     "metadata": {},
     "output_type": "execute_result"
    }
   ],
   "source": [
    "education = pd.read_csv(\"./data/StackOverflowDeveloperSurvey.csv\", usecols=['FormalEducation']).squeeze()\n",
    "type(education)"
   ]
  },
  {
   "cell_type": "code",
   "execution_count": 272,
   "id": "5e26960d-6932-487d-be1a-b2c01c7cf0b0",
   "metadata": {},
   "outputs": [
    {
     "data": {
      "text/plain": [
       "51382                                      Master's degree\n",
       "51383               I never completed any formal education\n",
       "51384                                    Bachelor's degree\n",
       "51385                                      Master's degree\n",
       "51386    Some college/university study without earning ...\n",
       "51387                                    Bachelor's degree\n",
       "51388                                      Master's degree\n",
       "51389    Some college/university study without earning ...\n",
       "51390                                    Bachelor's degree\n",
       "51391                                    Bachelor's degree\n",
       "Name: FormalEducation, dtype: object"
      ]
     },
     "execution_count": 272,
     "metadata": {},
     "output_type": "execute_result"
    }
   ],
   "source": [
    "education.tail(10)"
   ]
  },
  {
   "cell_type": "code",
   "execution_count": 284,
   "id": "6e483708-2ef5-42ef-a9e8-816dc4bfc9a4",
   "metadata": {},
   "outputs": [
    {
     "data": {
      "text/plain": [
       "0     United States\n",
       "1    United Kingdom\n",
       "2    United Kingdom\n",
       "3     United States\n",
       "4       Switzerland\n",
       "Name: Country, dtype: object"
      ]
     },
     "execution_count": 284,
     "metadata": {},
     "output_type": "execute_result"
    }
   ],
   "source": [
    "allInfo = pd.read_csv(\"./data/StackOverflowDeveloperSurvey.csv\")\n",
    "country = allInfo['Country']\n",
    "country.head()"
   ]
  },
  {
   "cell_type": "code",
   "execution_count": 310,
   "id": "57d0ba7a-34a7-4111-87d8-dcadbfe8f7a5",
   "metadata": {},
   "outputs": [
    {
     "data": {
      "text/plain": [
       "0     True\n",
       "1    False\n",
       "2    False\n",
       "3     True\n",
       "4    False\n",
       "Name: Country, dtype: bool"
      ]
     },
     "execution_count": 310,
     "metadata": {},
     "output_type": "execute_result"
    }
   ],
   "source": [
    "filterOnlyUsa = country == \"United States\"\n",
    "filterOnlyUsa.head()"
   ]
  },
  {
   "cell_type": "code",
   "execution_count": 316,
   "id": "2e5b9e99-b375-4dbe-bbca-51cc0f38025c",
   "metadata": {},
   "outputs": [
    {
     "data": {
      "text/plain": [
       "0              Secondary school\n",
       "3               Doctoral degree\n",
       "6               Master's degree\n",
       "10            Bachelor's degree\n",
       "15    Primary/elementary school\n",
       "17            Bachelor's degree\n",
       "18            Bachelor's degree\n",
       "25              Master's degree\n",
       "27            Bachelor's degree\n",
       "29            Bachelor's degree\n",
       "Name: FormalEducation, dtype: object"
      ]
     },
     "execution_count": 316,
     "metadata": {},
     "output_type": "execute_result"
    }
   ],
   "source": [
    "education.where(filterOnlyUsa).dropna().head(10)"
   ]
  },
  {
   "cell_type": "markdown",
   "id": "45844426-0ce0-47a4-972b-ef36b5e410b3",
   "metadata": {},
   "source": [
    "## 7. Sorting Series"
   ]
  },
  {
   "cell_type": "code",
   "execution_count": 319,
   "id": "89401fbd-8373-45b5-8872-23243db9f24f",
   "metadata": {},
   "outputs": [
    {
     "data": {
      "text/plain": [
       "2      a\n",
       "3      b\n",
       "4      c\n",
       "1      d\n",
       "345    e\n",
       "9      f\n",
       "dtype: object"
      ]
     },
     "execution_count": 319,
     "metadata": {},
     "output_type": "execute_result"
    }
   ],
   "source": [
    "indexes = [2,3,4,1,345,9]\n",
    "values = list(\"abcdef\")\n",
    "series = pd.Series(index = indexes, data = values)\n",
    "series"
   ]
  },
  {
   "cell_type": "code",
   "execution_count": 321,
   "id": "938f4a23-3910-4071-9597-49ba29033c44",
   "metadata": {},
   "outputs": [
    {
     "data": {
      "text/plain": [
       "2      a\n",
       "3      b\n",
       "4      c\n",
       "1      d\n",
       "345    e\n",
       "9      f\n",
       "dtype: object"
      ]
     },
     "execution_count": 321,
     "metadata": {},
     "output_type": "execute_result"
    }
   ],
   "source": [
    "series.sort_values()"
   ]
  },
  {
   "cell_type": "code",
   "execution_count": 323,
   "id": "8128dfe0-f4ec-432f-bc9d-6c67c3543e04",
   "metadata": {},
   "outputs": [
    {
     "data": {
      "text/plain": [
       "9      f\n",
       "345    e\n",
       "1      d\n",
       "4      c\n",
       "3      b\n",
       "2      a\n",
       "dtype: object"
      ]
     },
     "execution_count": 323,
     "metadata": {},
     "output_type": "execute_result"
    }
   ],
   "source": [
    "series.sort_values(ascending = False)"
   ]
  },
  {
   "cell_type": "code",
   "execution_count": 327,
   "id": "ae91ba4c-fec0-42bc-b9b8-c924278bd377",
   "metadata": {},
   "outputs": [
    {
     "data": {
      "text/plain": [
       "1      d\n",
       "2      a\n",
       "3      b\n",
       "4      c\n",
       "9      f\n",
       "345    e\n",
       "dtype: object"
      ]
     },
     "execution_count": 327,
     "metadata": {},
     "output_type": "execute_result"
    }
   ],
   "source": [
    "series.sort_index()"
   ]
  },
  {
   "cell_type": "code",
   "execution_count": 329,
   "id": "e850e8ff-1ce6-4776-ad10-e6fd61eb722e",
   "metadata": {},
   "outputs": [
    {
     "data": {
      "text/plain": [
       "345    e\n",
       "9      f\n",
       "4      c\n",
       "3      b\n",
       "2      a\n",
       "1      d\n",
       "dtype: object"
      ]
     },
     "execution_count": 329,
     "metadata": {},
     "output_type": "execute_result"
    }
   ],
   "source": [
    "series.sort_index(ascending = False)"
   ]
  },
  {
   "cell_type": "code",
   "execution_count": 350,
   "id": "232ede3b-6e92-447d-9dfa-5b2f41ee6141",
   "metadata": {},
   "outputs": [],
   "source": [
    "salary = pd.read_csv(\"./data/StackOverflowDeveloperSurvey.csv\", usecols = ['Salary']).squeeze().dropna()"
   ]
  },
  {
   "cell_type": "markdown",
   "id": "ff5b76b0-e86e-44b1-8f3d-b89e2bf96791",
   "metadata": {},
   "source": [
    "### Exercises:\n",
    "\n",
    "1. Sort data descending (show 5 positions).\n",
    "2. Sort data ascending (show 5 positions).\n",
    "3. Sort data descending again, but this time modify original series.\n",
    "4. Sort data by idnex descending.\n",
    "5. Create **maxSalaries** and **minSalaries** variable and designate mean of it."
   ]
  },
  {
   "cell_type": "code",
   "execution_count": 358,
   "id": "c3a42880-d5c4-4006-a407-55334cb796e6",
   "metadata": {},
   "outputs": [
    {
     "data": {
      "text/plain": [
       "31600    197000.0\n",
       "27943    195000.0\n",
       "6743     195000.0\n",
       "18237    195000.0\n",
       "41398    195000.0\n",
       "Name: Salary, dtype: float64"
      ]
     },
     "execution_count": 358,
     "metadata": {},
     "output_type": "execute_result"
    }
   ],
   "source": [
    "salary.sort_values(ascending = False).head()"
   ]
  },
  {
   "cell_type": "code",
   "execution_count": 360,
   "id": "5b25c7af-8577-4797-bf5c-9fc35c730c43",
   "metadata": {},
   "outputs": [
    {
     "data": {
      "text/plain": [
       "51144    0.0\n",
       "23953    0.0\n",
       "23907    0.0\n",
       "44841    0.0\n",
       "2951     0.0\n",
       "Name: Salary, dtype: float64"
      ]
     },
     "execution_count": 360,
     "metadata": {},
     "output_type": "execute_result"
    }
   ],
   "source": [
    "salary.sort_values(ascending = True).head()"
   ]
  },
  {
   "cell_type": "code",
   "execution_count": 368,
   "id": "308d6910-748a-4aaa-bf8f-854f9077ba23",
   "metadata": {},
   "outputs": [
    {
     "data": {
      "text/plain": [
       "31600    197000.0\n",
       "27943    195000.0\n",
       "6743     195000.0\n",
       "41398    195000.0\n",
       "1696     195000.0\n",
       "           ...   \n",
       "23907         0.0\n",
       "23953         0.0\n",
       "2951          0.0\n",
       "4517          0.0\n",
       "51144         0.0\n",
       "Name: Salary, Length: 12891, dtype: float64"
      ]
     },
     "execution_count": 368,
     "metadata": {},
     "output_type": "execute_result"
    }
   ],
   "source": [
    "salary.sort_values(ascending = False, inplace = True)\n",
    "salary"
   ]
  },
  {
   "cell_type": "code",
   "execution_count": 372,
   "id": "8b9d4fb2-1f25-4cd2-8752-93b436f3e292",
   "metadata": {},
   "outputs": [
    {
     "data": {
      "text/plain": [
       "2        113750.000000\n",
       "14       100000.000000\n",
       "17       130000.000000\n",
       "18        82500.000000\n",
       "22       100764.000000\n",
       "             ...      \n",
       "51371     74193.548387\n",
       "51378    107526.881720\n",
       "51382     32258.064516\n",
       "51387     58000.000000\n",
       "51390     40000.000000\n",
       "Name: Salary, Length: 12891, dtype: float64"
      ]
     },
     "execution_count": 372,
     "metadata": {},
     "output_type": "execute_result"
    }
   ],
   "source": [
    "salary.sort_index()"
   ]
  },
  {
   "cell_type": "code",
   "execution_count": 376,
   "id": "cc3361f8-f875-4a7e-b613-f1fa18391d3c",
   "metadata": {},
   "outputs": [
    {
     "data": {
      "text/plain": [
       "180198.1045586777"
      ]
     },
     "execution_count": 376,
     "metadata": {},
     "output_type": "execute_result"
    }
   ],
   "source": [
    "maxSalaries = salary.head(100).mean()\n",
    "maxSalaries"
   ]
  },
  {
   "cell_type": "code",
   "execution_count": 382,
   "id": "1a762100-6e2c-4ae0-b605-c57280bb6d77",
   "metadata": {},
   "outputs": [
    {
     "data": {
      "text/plain": [
       "67.08388907133795"
      ]
     },
     "execution_count": 382,
     "metadata": {},
     "output_type": "execute_result"
    }
   ],
   "source": [
    "minSalaries = salary.tail(100).mean()\n",
    "minSalaries"
   ]
  },
  {
   "cell_type": "code",
   "execution_count": 384,
   "id": "c873520d-25a3-41b9-a6e1-467752e1927d",
   "metadata": {},
   "outputs": [
    {
     "data": {
      "text/plain": [
       "audi       300\n",
       "bmw         45\n",
       "citroen    230\n",
       "dacia      440\n",
       "dtype: int64"
      ]
     },
     "execution_count": 384,
     "metadata": {},
     "output_type": "execute_result"
    }
   ],
   "source": [
    "    index=['audi','bmw','citroen','dacia']\n",
    "    values = [300,45,230,440]\n",
    "    cars = pd.Series(values, index)\n",
    "    cars"
   ]
  },
  {
   "cell_type": "markdown",
   "id": "f9713408-5fae-4057-b5b7-5ad45d93a0e5",
   "metadata": {},
   "source": [
    "## 8. Checking if element is on list"
   ]
  },
  {
   "cell_type": "code",
   "execution_count": 393,
   "id": "20766adc-1c88-4807-af1a-3bd169f9948f",
   "metadata": {},
   "outputs": [
    {
     "data": {
      "text/plain": [
       "True"
      ]
     },
     "execution_count": 393,
     "metadata": {},
     "output_type": "execute_result"
    }
   ],
   "source": [
    "numbers = [1,5,6,23,4,34]\n",
    "numbersSeries = pd.Series(numbers)\n",
    "numbersSeries\n",
    "5 in numbersSeries.values"
   ]
  },
  {
   "cell_type": "code",
   "execution_count": 397,
   "id": "7cbda4e7-e3f0-438b-ae8d-b123584878b7",
   "metadata": {},
   "outputs": [
    {
     "data": {
      "text/plain": [
       "False"
      ]
     },
     "execution_count": 397,
     "metadata": {},
     "output_type": "execute_result"
    }
   ],
   "source": [
    "34 in numbersSeries"
   ]
  },
  {
   "cell_type": "markdown",
   "id": "3de02a19-d2e6-4bf8-83d0-810ea3a4e9e7",
   "metadata": {},
   "source": [
    "## 9. Values by indexes"
   ]
  },
  {
   "cell_type": "code",
   "execution_count": 400,
   "id": "17de7c44-5666-480b-a374-11ea174d367a",
   "metadata": {},
   "outputs": [
    {
     "data": {
      "text/plain": [
       "0     1\n",
       "1     3\n",
       "2     4\n",
       "3     5\n",
       "4    34\n",
       "5    34\n",
       "dtype: int64"
      ]
     },
     "execution_count": 400,
     "metadata": {},
     "output_type": "execute_result"
    }
   ],
   "source": [
    "numbers = [1,3,4,5,34,34]\n",
    "numbersSeries = pd.Series(numbers)\n",
    "numbersSeries"
   ]
  },
  {
   "cell_type": "code",
   "execution_count": 402,
   "id": "6bb9e50d-19ec-4ebd-8b89-3dcce59c6ec4",
   "metadata": {},
   "outputs": [
    {
     "data": {
      "text/plain": [
       "5"
      ]
     },
     "execution_count": 402,
     "metadata": {},
     "output_type": "execute_result"
    }
   ],
   "source": [
    "numbersSeries[3]"
   ]
  },
  {
   "cell_type": "code",
   "execution_count": 406,
   "id": "ce471c53-14a0-487e-9b82-df2bac1a471c",
   "metadata": {},
   "outputs": [
    {
     "data": {
      "text/plain": [
       "2     4\n",
       "5    34\n",
       "dtype: int64"
      ]
     },
     "execution_count": 406,
     "metadata": {},
     "output_type": "execute_result"
    }
   ],
   "source": [
    "numbersSeries[[2,5]]"
   ]
  },
  {
   "cell_type": "code",
   "execution_count": 410,
   "id": "f395a249-9b4a-43d9-8f37-d33d875f7248",
   "metadata": {},
   "outputs": [
    {
     "data": {
      "text/plain": [
       "1    3\n",
       "2    4\n",
       "3    5\n",
       "dtype: int64"
      ]
     },
     "execution_count": 410,
     "metadata": {},
     "output_type": "execute_result"
    }
   ],
   "source": [
    "numbersSeries[1:4]"
   ]
  },
  {
   "cell_type": "markdown",
   "id": "bd773f46-8797-42d0-ae86-3f3c13e62326",
   "metadata": {},
   "source": [
    "## Exercises: \n",
    "\n",
    "1. Display value from third position (index 3).\n",
    "2. Display values of indexes **1-10**.\n",
    "3. Display value of index **12345**.\n",
    "4. Display values of indexes **12345 - 12350**.\n",
    "5. Sort Series with **inplace=True** and do steps 2-5 again.\n",
    "6. Reset index and do step 5 again.\n"
   ]
  },
  {
   "cell_type": "code",
   "execution_count": 426,
   "id": "f78db049-c023-4238-9b75-e061fc5fedb0",
   "metadata": {},
   "outputs": [
    {
     "data": {
      "text/plain": [
       "1              20 to 99 employees\n",
       "2        10,000 or more employees\n",
       "3        10,000 or more employees\n",
       "4              10 to 19 employees\n",
       "6              20 to 99 employees\n",
       "                   ...           \n",
       "51387        100 to 499 employees\n",
       "51388        100 to 499 employees\n",
       "51389          10 to 19 employees\n",
       "51390     Fewer than 10 employees\n",
       "51391    10,000 or more employees\n",
       "Name: CompanySize, Length: 38922, dtype: object"
      ]
     },
     "execution_count": 426,
     "metadata": {},
     "output_type": "execute_result"
    }
   ],
   "source": [
    "surveys = pd.read_csv(\"./data/StackOverflowDeveloperSurvey.csv\", usecols=['CompanySize']).squeeze().dropna()\n",
    "surveys"
   ]
  },
  {
   "cell_type": "code",
   "execution_count": 428,
   "id": "3f475fbb-bede-4389-a1c3-e2d3839442b8",
   "metadata": {},
   "outputs": [
    {
     "data": {
      "text/plain": [
       "'10,000 or more employees'"
      ]
     },
     "execution_count": 428,
     "metadata": {},
     "output_type": "execute_result"
    }
   ],
   "source": [
    "surveys[3]"
   ]
  },
  {
   "cell_type": "code",
   "execution_count": 430,
   "id": "66258008-a7a4-4fe8-ac84-94a7ea4a013a",
   "metadata": {},
   "outputs": [
    {
     "data": {
      "text/plain": [
       "2     10,000 or more employees\n",
       "3     10,000 or more employees\n",
       "4           10 to 19 employees\n",
       "6           20 to 99 employees\n",
       "7      Fewer than 10 employees\n",
       "8     5,000 to 9,999 employees\n",
       "10        100 to 499 employees\n",
       "11        100 to 499 employees\n",
       "13     Fewer than 10 employees\n",
       "14    5,000 to 9,999 employees\n",
       "Name: CompanySize, dtype: object"
      ]
     },
     "execution_count": 430,
     "metadata": {},
     "output_type": "execute_result"
    }
   ],
   "source": [
    "surveys[1:11]"
   ]
  },
  {
   "cell_type": "code",
   "execution_count": 432,
   "id": "517d5528-ff75-47c5-9275-2d5a3f23b74a",
   "metadata": {},
   "outputs": [
    {
     "data": {
      "text/plain": [
       "'20 to 99 employees'"
      ]
     },
     "execution_count": 432,
     "metadata": {},
     "output_type": "execute_result"
    }
   ],
   "source": [
    "surveys[12345]"
   ]
  },
  {
   "cell_type": "code",
   "execution_count": 436,
   "id": "96eb97fa-2b6b-476a-bb59-b4f83cc0cd39",
   "metadata": {},
   "outputs": [
    {
     "data": {
      "text/plain": [
       "15994      20 to 99 employees\n",
       "15995    100 to 499 employees\n",
       "15996      10 to 19 employees\n",
       "15997            I don't know\n",
       "15998      20 to 99 employees\n",
       "15999    100 to 499 employees\n",
       "Name: CompanySize, dtype: object"
      ]
     },
     "execution_count": 436,
     "metadata": {},
     "output_type": "execute_result"
    }
   ],
   "source": [
    "surveys[12345:12351]"
   ]
  },
  {
   "cell_type": "code",
   "execution_count": 440,
   "id": "66bc4eb3-b54b-4bd2-802f-0aeb13f79efd",
   "metadata": {},
   "outputs": [
    {
     "data": {
      "text/plain": [
       "'10,000 or more employees'"
      ]
     },
     "execution_count": 440,
     "metadata": {},
     "output_type": "execute_result"
    }
   ],
   "source": [
    "surveys.sort_values(inplace=True)\n",
    "surveys[3]"
   ]
  },
  {
   "cell_type": "code",
   "execution_count": 442,
   "id": "52cb49bb-e322-406c-8b47-d1e7b50930e3",
   "metadata": {},
   "outputs": [
    {
     "data": {
      "text/plain": [
       "48599    1,000 to 4,999 employees\n",
       "48597    1,000 to 4,999 employees\n",
       "8147     1,000 to 4,999 employees\n",
       "1223     1,000 to 4,999 employees\n",
       "48591    1,000 to 4,999 employees\n",
       "18639    1,000 to 4,999 employees\n",
       "48630    1,000 to 4,999 employees\n",
       "34118    1,000 to 4,999 employees\n",
       "32839    1,000 to 4,999 employees\n",
       "17392    1,000 to 4,999 employees\n",
       "Name: CompanySize, dtype: object"
      ]
     },
     "execution_count": 442,
     "metadata": {},
     "output_type": "execute_result"
    }
   ],
   "source": [
    "surveys[1:11]"
   ]
  },
  {
   "cell_type": "code",
   "execution_count": 446,
   "id": "45b10311-436d-47e9-9fda-d966193a90b7",
   "metadata": {},
   "outputs": [
    {
     "data": {
      "text/plain": [
       "'20 to 99 employees'"
      ]
     },
     "execution_count": 446,
     "metadata": {},
     "output_type": "execute_result"
    }
   ],
   "source": [
    "surveys[12345]"
   ]
  },
  {
   "cell_type": "code",
   "execution_count": 448,
   "id": "b76ec16d-aa33-4f73-9374-7955ad4e1f89",
   "metadata": {},
   "outputs": [],
   "source": [
    "surveys.reset_index(drop=True,inplace=True)"
   ]
  },
  {
   "cell_type": "markdown",
   "id": "6a395cda-c98b-49fd-95d0-661eadf012fc",
   "metadata": {},
   "source": [
    "## 10. Getting values by indexes methods\n",
    "\n",
    "<img src=\"./images/indexes.png\" width=\"700px\"/>"
   ]
  },
  {
   "cell_type": "code",
   "execution_count": 9,
   "id": "7ec761b2-b088-41c0-9e1a-e34f84246f01",
   "metadata": {},
   "outputs": [
    {
     "data": {
      "text/plain": [
       "a    aa\n",
       "b    bb\n",
       "c    cc\n",
       "d    dd\n",
       "e    ee\n",
       "f    ff\n",
       "dtype: object"
      ]
     },
     "execution_count": 9,
     "metadata": {},
     "output_type": "execute_result"
    }
   ],
   "source": [
    "import pandas as pd\n",
    "\n",
    "indexes = list(\"abcdef\")\n",
    "words = [\"aa\", \"bb\", \"cc\", \"dd\", \"ee\", \"ff\"]\n",
    "series = pd.Series(index = indexes, data = words)\n",
    "series"
   ]
  },
  {
   "cell_type": "code",
   "execution_count": 15,
   "id": "d6c1b26e-b317-4142-9b7a-a4853690c505",
   "metadata": {},
   "outputs": [
    {
     "data": {
      "text/plain": [
       "'bb'"
      ]
     },
     "execution_count": 15,
     "metadata": {},
     "output_type": "execute_result"
    }
   ],
   "source": [
    "series.iloc[1]"
   ]
  },
  {
   "cell_type": "code",
   "execution_count": 17,
   "id": "5a1868b2-94bd-4b6c-8173-f6b8b726d302",
   "metadata": {},
   "outputs": [
    {
     "data": {
      "text/plain": [
       "b    bb\n",
       "c    cc\n",
       "d    dd\n",
       "dtype: object"
      ]
     },
     "execution_count": 17,
     "metadata": {},
     "output_type": "execute_result"
    }
   ],
   "source": [
    "series.iloc[[1,2,3]]"
   ]
  },
  {
   "cell_type": "code",
   "execution_count": 19,
   "id": "a6163b19-13e6-4563-9097-0cfa97780c52",
   "metadata": {},
   "outputs": [
    {
     "data": {
      "text/plain": [
       "'aa'"
      ]
     },
     "execution_count": 19,
     "metadata": {},
     "output_type": "execute_result"
    }
   ],
   "source": [
    "series.loc['a']"
   ]
  },
  {
   "cell_type": "code",
   "execution_count": 23,
   "id": "42a573b4-1aa5-4903-b9ce-d7111c797d41",
   "metadata": {},
   "outputs": [
    {
     "data": {
      "text/plain": [
       "a    aa\n",
       "b    bb\n",
       "c    cc\n",
       "dtype: object"
      ]
     },
     "execution_count": 23,
     "metadata": {},
     "output_type": "execute_result"
    }
   ],
   "source": [
    "series.loc[['a', 'b', 'c']]"
   ]
  },
  {
   "cell_type": "markdown",
   "id": "f8053d49-bac2-43c0-90db-a0f7f5234f5c",
   "metadata": {},
   "source": [
    "## 11. Problems with **iloc** and **loc**."
   ]
  },
  {
   "cell_type": "code",
   "execution_count": 27,
   "id": "594eb9e7-5fe6-441f-a582-90f0e9880bf2",
   "metadata": {},
   "outputs": [
    {
     "data": {
      "text/plain": [
       "a    aa\n",
       "b    bb\n",
       "c    cc\n",
       "d    dd\n",
       "e    ee\n",
       "f    ff\n",
       "dtype: object"
      ]
     },
     "execution_count": 27,
     "metadata": {},
     "output_type": "execute_result"
    }
   ],
   "source": [
    "indexes = list(\"abcdef\")\n",
    "words = [\"aa\", \"bb\", \"cc\", \"dd\", \"ee\", \"ff\"]\n",
    "series = pd.Series(index = indexes, data = words)\n",
    "series"
   ]
  },
  {
   "cell_type": "code",
   "execution_count": 41,
   "id": "e971f2c6-4ac2-4876-bcc3-4c1bdf0e927d",
   "metadata": {},
   "outputs": [],
   "source": [
    "#series.loc[['a', 'c', 'g']]    "
   ]
  },
  {
   "cell_type": "markdown",
   "id": "f34a8d78-2f23-4b65-84ea-20296cf45918",
   "metadata": {},
   "source": [
    "This formula cause error, because **g** index is not in the sereis"
   ]
  },
  {
   "cell_type": "code",
   "execution_count": 45,
   "id": "31632a5c-5032-45ef-b7b5-b11250139876",
   "metadata": {},
   "outputs": [
    {
     "data": {
      "text/plain": [
       "a     aa\n",
       "c     cc\n",
       "g    NaN\n",
       "dtype: object"
      ]
     },
     "execution_count": 45,
     "metadata": {},
     "output_type": "execute_result"
    }
   ],
   "source": [
    "series.reindex(['a', 'c', 'g'])"
   ]
  },
  {
   "cell_type": "code",
   "execution_count": 47,
   "id": "65348d52-57a4-417d-b219-1ff661af348c",
   "metadata": {},
   "outputs": [
    {
     "data": {
      "text/plain": [
       "a    aa\n",
       "c    cc\n",
       "dtype: object"
      ]
     },
     "execution_count": 47,
     "metadata": {},
     "output_type": "execute_result"
    }
   ],
   "source": [
    "series.reindex(['a','c', 'g']).dropna()"
   ]
  },
  {
   "cell_type": "code",
   "execution_count": 53,
   "id": "1d949215-bf22-4851-b554-f26374ebe23e",
   "metadata": {},
   "outputs": [
    {
     "data": {
      "text/plain": [
       "a    aa\n",
       "b    bb\n",
       "dtype: object"
      ]
     },
     "execution_count": 53,
     "metadata": {},
     "output_type": "execute_result"
    }
   ],
   "source": [
    "series.loc[series.index.intersection(['a', 'b', 'g'])]"
   ]
  },
  {
   "cell_type": "markdown",
   "id": "be4851b0-f148-4d8b-9840-c2815bc9d274",
   "metadata": {},
   "source": [
    "But there is a problem, when one of the indexes that we trying to find is not uniqe. In that case this formulas cause errors."
   ]
  },
  {
   "cell_type": "markdown",
   "id": "cfe244bc-541c-4247-bca9-a6cea05052bf",
   "metadata": {},
   "source": [
    "## 12. Reading data with specified index"
   ]
  },
  {
   "cell_type": "code",
   "execution_count": 77,
   "id": "257e32d6-4c8b-40cf-a8fe-f7e0ac4f6461",
   "metadata": {},
   "outputs": [],
   "source": [
    "fortune500 = pd.read_csv(\"./data/Fortune_500_2017.csv\", usecols=[\"Rank\", \"Title\"], index_col=\"Rank\").squeeze()"
   ]
  },
  {
   "cell_type": "code",
   "execution_count": 79,
   "id": "a258ef8f-e796-4843-8441-cee937b9fd0e",
   "metadata": {},
   "outputs": [
    {
     "data": {
      "text/plain": [
       "Rank\n",
       "1               Walmart\n",
       "2    Berkshire Hathaway\n",
       "3                 Apple\n",
       "4           Exxon Mobil\n",
       "5              McKesson\n",
       "Name: Title, dtype: object"
      ]
     },
     "execution_count": 79,
     "metadata": {},
     "output_type": "execute_result"
    }
   ],
   "source": [
    "fortune500.head()"
   ]
  },
  {
   "cell_type": "code",
   "execution_count": 81,
   "id": "cc708af6-87ac-4b5d-914d-9e7e13865aa9",
   "metadata": {},
   "outputs": [
    {
     "data": {
      "text/plain": [
       "Rank\n",
       "1                Walmart\n",
       "2     Berkshire Hathaway\n",
       "3                  Apple\n",
       "4            Exxon Mobil\n",
       "5               McKesson\n",
       "6     UnitedHealth Group\n",
       "7             CVS Health\n",
       "8         General Motors\n",
       "9                   AT&T\n",
       "10            Ford Motor\n",
       "Name: Title, dtype: object"
      ]
     },
     "execution_count": 81,
     "metadata": {},
     "output_type": "execute_result"
    }
   ],
   "source": [
    "fortune500[:10]"
   ]
  },
  {
   "cell_type": "code",
   "execution_count": 83,
   "id": "3f9452a7-853f-4e49-b514-9e80746d6f92",
   "metadata": {},
   "outputs": [
    {
     "data": {
      "text/plain": [
       "Rank\n",
       "481           Booz Allen Hamilton Holding\n",
       "482                              Chemours\n",
       "483    Western & Southern Financial Group\n",
       "484                              Celanese\n",
       "485                   Windstream Holdings\n",
       "486                              Seaboard\n",
       "487                             Essendant\n",
       "488                                Apache\n",
       "489                                Airgas\n",
       "490                        Kelly Services\n",
       "491                         Liberty Media\n",
       "492                      Rockwell Collins\n",
       "493             Robert Half International\n",
       "494                             CH2M Hill\n",
       "495                              Big Lots\n",
       "496                         Michaels Cos.\n",
       "497                         Toll Brothers\n",
       "498                                 Yahoo\n",
       "499                         Vistra Energy\n",
       "500                        ABM Industries\n",
       "Name: Title, dtype: object"
      ]
     },
     "execution_count": 83,
     "metadata": {},
     "output_type": "execute_result"
    }
   ],
   "source": [
    "fortune500[-20:]"
   ]
  },
  {
   "cell_type": "code",
   "execution_count": 85,
   "id": "f70ea161-80c5-4c01-bbd9-442c33fedf54",
   "metadata": {},
   "outputs": [],
   "source": [
    "fortune500 = pd.read_csv(\"./data/Fortune_500_2017.csv\", usecols=[\"Title\", \"Employees\"], index_col=\"Title\").squeeze()"
   ]
  },
  {
   "cell_type": "code",
   "execution_count": 89,
   "id": "fab7edd4-00b1-4862-b09f-80042f60bbc0",
   "metadata": {},
   "outputs": [
    {
     "data": {
      "text/plain": [
       "Title\n",
       "Walmart               2300000\n",
       "Berkshire Hathaway     367700\n",
       "Apple                  116000\n",
       "Exxon Mobil             72700\n",
       "McKesson                68000\n",
       "Name: Employees, dtype: int64"
      ]
     },
     "execution_count": 89,
     "metadata": {},
     "output_type": "execute_result"
    }
   ],
   "source": [
    "fortune500.head()"
   ]
  },
  {
   "cell_type": "code",
   "execution_count": 98,
   "id": "66bef8c2-9f50-47ad-89ab-5c50496e1f1a",
   "metadata": {},
   "outputs": [
    {
     "data": {
      "text/plain": [
       "Title\n",
       "IBM         414400\n",
       "Facebook     17048\n",
       "Apple       116000\n",
       "Alphabet     72053\n",
       "Name: Employees, dtype: int64"
      ]
     },
     "execution_count": 98,
     "metadata": {},
     "output_type": "execute_result"
    }
   ],
   "source": [
    "fortune500.loc[[\"IBM\", \"Facebook\", \"Apple\", \"Alphabet\"]]"
   ]
  },
  {
   "cell_type": "code",
   "execution_count": 100,
   "id": "ed0b93f0-777c-416a-aa4a-a632199783b0",
   "metadata": {},
   "outputs": [
    {
     "data": {
      "text/plain": [
       "Title\n",
       "IBM                          414400\n",
       "State Farm Insurance Cos.     68234\n",
       "Phillips 66                   14800\n",
       "Johnson & Johnson            126400\n",
       "Procter & Gamble             105000\n",
       "Valero Energy                  9996\n",
       "Target                       323000\n",
       "Freddie Mac                    5982\n",
       "Lowe’s                       240000\n",
       "Dell Technologies            138000\n",
       "MetLife                       58000\n",
       "Aetna                         49500\n",
       "PepsiCo                      264000\n",
       "Archer Daniels Midland        31800\n",
       "UPS                          335520\n",
       "Intel                        106000\n",
       "Name: Employees, dtype: int64"
      ]
     },
     "execution_count": 100,
     "metadata": {},
     "output_type": "execute_result"
    }
   ],
   "source": [
    "fortune500[\"IBM\":\"Intel\"]"
   ]
  },
  {
   "cell_type": "markdown",
   "id": "4f27756c-6b20-4749-b8bd-4a32ec984c8b",
   "metadata": {},
   "source": [
    "## 13. Basic functions for data analysis"
   ]
  },
  {
   "cell_type": "code",
   "execution_count": 107,
   "id": "f08e4aff-6df3-4efc-b74c-ce01d34132f1",
   "metadata": {},
   "outputs": [
    {
     "data": {
      "text/plain": [
       "Title\n",
       "Walmart               2300000\n",
       "Berkshire Hathaway     367700\n",
       "Apple                  116000\n",
       "Exxon Mobil             72700\n",
       "McKesson                68000\n",
       "Name: Employees, dtype: int64"
      ]
     },
     "execution_count": 107,
     "metadata": {},
     "output_type": "execute_result"
    }
   ],
   "source": [
    "fortune500 = pd.read_csv(\"./data/Fortune_500_2017.csv\", usecols=[\"Title\", \"Employees\"], index_col=\"Title\").squeeze()\n",
    "fortune500.head()"
   ]
  },
  {
   "cell_type": "code",
   "execution_count": 119,
   "id": "be7decaf-7a44-4a9b-ac69-a7c98b98b93a",
   "metadata": {},
   "outputs": [
    {
     "data": {
      "text/plain": [
       "'Walmart'"
      ]
     },
     "execution_count": 119,
     "metadata": {},
     "output_type": "execute_result"
    }
   ],
   "source": [
    "fortune500.idxmax()"
   ]
  },
  {
   "cell_type": "code",
   "execution_count": 127,
   "id": "8d95bf32-b238-429b-bf0c-9d4c2ef56795",
   "metadata": {},
   "outputs": [
    {
     "data": {
      "text/plain": [
       "2300000"
      ]
     },
     "execution_count": 127,
     "metadata": {},
     "output_type": "execute_result"
    }
   ],
   "source": [
    "fortune500.loc[fortune500.idxmax()]"
   ]
  },
  {
   "cell_type": "code",
   "execution_count": 129,
   "id": "1cd5792c-e5b7-4a51-b222-578987101491",
   "metadata": {},
   "outputs": [
    {
     "data": {
      "text/plain": [
       "'A-Mark Precious Metals'"
      ]
     },
     "execution_count": 129,
     "metadata": {},
     "output_type": "execute_result"
    }
   ],
   "source": [
    "fortune500.idxmin()"
   ]
  },
  {
   "cell_type": "code",
   "execution_count": 133,
   "id": "516a5bf0-1300-4cb9-b622-b84b21e7dc54",
   "metadata": {},
   "outputs": [
    {
     "data": {
      "text/plain": [
       "83"
      ]
     },
     "execution_count": 133,
     "metadata": {},
     "output_type": "execute_result"
    }
   ],
   "source": [
    "fortune500.loc[fortune500.idxmin()]"
   ]
  },
  {
   "cell_type": "markdown",
   "id": "ce3687e0-f324-4cce-bc5a-2020bf5fa997",
   "metadata": {},
   "source": [
    "## 14. Modifications"
   ]
  },
  {
   "cell_type": "code",
   "execution_count": 138,
   "id": "2e864910-87a7-447b-bdc9-c1fad568306e",
   "metadata": {},
   "outputs": [
    {
     "data": {
      "text/plain": [
       "0     112\n",
       "1     122\n",
       "2      33\n",
       "3      47\n",
       "4       5\n",
       "5    3221\n",
       "dtype: int64"
      ]
     },
     "execution_count": 138,
     "metadata": {},
     "output_type": "execute_result"
    }
   ],
   "source": [
    "series = pd.Series([112,122,33,47,5,3221])\n",
    "series"
   ]
  },
  {
   "cell_type": "code",
   "execution_count": 140,
   "id": "605ef1fd-4c7f-4739-92ee-84a1504ae81c",
   "metadata": {},
   "outputs": [
    {
     "data": {
      "text/plain": [
       "0     11200\n",
       "1     12200\n",
       "2      3300\n",
       "3      4700\n",
       "4       500\n",
       "5    322100\n",
       "dtype: int64"
      ]
     },
     "execution_count": 140,
     "metadata": {},
     "output_type": "execute_result"
    }
   ],
   "source": [
    "series*100"
   ]
  },
  {
   "cell_type": "code",
   "execution_count": 142,
   "id": "345664e5-3fb4-4f0f-bbbb-400f76472c04",
   "metadata": {},
   "outputs": [
    {
     "data": {
      "text/plain": [
       "0     111\n",
       "1     121\n",
       "2      32\n",
       "3      46\n",
       "4       4\n",
       "5    3220\n",
       "dtype: int64"
      ]
     },
     "execution_count": 142,
     "metadata": {},
     "output_type": "execute_result"
    }
   ],
   "source": [
    "series-1"
   ]
  },
  {
   "cell_type": "code",
   "execution_count": 148,
   "id": "5046df5c-25bb-487c-87fe-3461a8d8354b",
   "metadata": {},
   "outputs": [
    {
     "data": {
      "text/plain": [
       "0      560\n",
       "1      610\n",
       "2      165\n",
       "3      235\n",
       "4       25\n",
       "5    16105\n",
       "dtype: int64"
      ]
     },
     "execution_count": 148,
     "metadata": {},
     "output_type": "execute_result"
    }
   ],
   "source": [
    "series.apply(lambda num : num * 5)"
   ]
  },
  {
   "cell_type": "code",
   "execution_count": 154,
   "id": "4262b4be-2304-4d84-954b-beab494e00f5",
   "metadata": {},
   "outputs": [
    {
     "data": {
      "text/plain": [
       "0    a\n",
       "1    b\n",
       "2    c\n",
       "3    d\n",
       "4    e\n",
       "5    f\n",
       "dtype: object"
      ]
     },
     "execution_count": 154,
     "metadata": {},
     "output_type": "execute_result"
    }
   ],
   "source": [
    "series2 = pd.Series(list(\"abcdef\"))\n",
    "series2"
   ]
  },
  {
   "cell_type": "code",
   "execution_count": 156,
   "id": "7f7e18f0-461d-45b9-ad6d-02aeec98ea3b",
   "metadata": {},
   "outputs": [
    {
     "data": {
      "text/plain": [
       "0    A\n",
       "1    B\n",
       "2    C\n",
       "3    D\n",
       "4    E\n",
       "5    F\n",
       "dtype: object"
      ]
     },
     "execution_count": 156,
     "metadata": {},
     "output_type": "execute_result"
    }
   ],
   "source": [
    "series2.str.upper()"
   ]
  },
  {
   "cell_type": "code",
   "execution_count": 158,
   "id": "54f96543-f1e9-48f4-8048-56ab90329cb7",
   "metadata": {},
   "outputs": [
    {
     "data": {
      "text/plain": [
       "0    addd\n",
       "1    bddd\n",
       "2    cddd\n",
       "3    dddd\n",
       "4    eddd\n",
       "5    fddd\n",
       "dtype: object"
      ]
     },
     "execution_count": 158,
     "metadata": {},
     "output_type": "execute_result"
    }
   ],
   "source": [
    "series2 + \"ddd\""
   ]
  },
  {
   "cell_type": "code",
   "execution_count": 166,
   "id": "7a3c854b-f42d-4093-976a-521ac7fda877",
   "metadata": {},
   "outputs": [
    {
     "data": {
      "text/plain": [
       "0    A\n",
       "1    B\n",
       "2    C\n",
       "3    D\n",
       "4    E\n",
       "5    F\n",
       "dtype: object"
      ]
     },
     "execution_count": 166,
     "metadata": {},
     "output_type": "execute_result"
    }
   ],
   "source": [
    "series2.apply(lambda string: string.upper())"
   ]
  },
  {
   "cell_type": "code",
   "execution_count": null,
   "id": "af1d03e8-f2aa-4097-83bf-411eb16b480d",
   "metadata": {},
   "outputs": [],
   "source": []
  }
 ],
 "metadata": {
  "kernelspec": {
   "display_name": "Python 3 (ipykernel)",
   "language": "python",
   "name": "python3"
  },
  "language_info": {
   "codemirror_mode": {
    "name": "ipython",
    "version": 3
   },
   "file_extension": ".py",
   "mimetype": "text/x-python",
   "name": "python",
   "nbconvert_exporter": "python",
   "pygments_lexer": "ipython3",
   "version": "3.12.7"
  }
 },
 "nbformat": 4,
 "nbformat_minor": 5
}
